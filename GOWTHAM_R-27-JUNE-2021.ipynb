{
 "cells": [
  {
   "cell_type": "markdown",
   "metadata": {},
   "source": [
    "# Businesses or companies can fall prey to default if they are not able to keep up their debt obligations. Defaults will lead to a lower credit rating for the company which in turn reduces its chances of getting credit in the future and may have to pay higher interests on existing debts as well as any new obligations. From an investor's point of view, he would want to invest in a company if it is capable of handling its financial obligations, can grow quickly, and is able to manage the growth scale.\n",
    "\n",
    "# A balance sheet is a financial statement of a company that provides a snapshot of what a company owns, owes, and the amount invested by the shareholders. Thus, it is an important tool that helps evaluate the performance of a business.\n",
    "\n",
    "# Data that is available includes information from the financial statement of the companies for the previous year (2015). Also, information about the Networth of the company in the following year (2016) is provided which can be used to drive the labeled field."
   ]
  },
  {
   "cell_type": "code",
   "execution_count": 1,
   "metadata": {},
   "outputs": [],
   "source": [
    "# Importing the libraries\n",
    "import numpy as np\n",
    "import matplotlib.pyplot as plt\n",
    "import pandas as pd\n",
    "import seaborn as sns # for making plots with seaborn\n",
    "color = sns.color_palette()\n",
    "import sklearn.metrics as metrics\n",
    "\n",
    "import warnings\n",
    "warnings.filterwarnings(\"ignore\")"
   ]
  },
  {
   "cell_type": "markdown",
   "metadata": {},
   "source": [
    "# Importing the dataset"
   ]
  },
  {
   "cell_type": "code",
   "execution_count": 2,
   "metadata": {},
   "outputs": [
    {
     "data": {
      "text/html": [
       "<div>\n",
       "<style scoped>\n",
       "    .dataframe tbody tr th:only-of-type {\n",
       "        vertical-align: middle;\n",
       "    }\n",
       "\n",
       "    .dataframe tbody tr th {\n",
       "        vertical-align: top;\n",
       "    }\n",
       "\n",
       "    .dataframe thead th {\n",
       "        text-align: right;\n",
       "    }\n",
       "</style>\n",
       "<table border=\"1\" class=\"dataframe\">\n",
       "  <thead>\n",
       "    <tr style=\"text-align: right;\">\n",
       "      <th></th>\n",
       "      <th>Co_Code</th>\n",
       "      <th>Co_Name</th>\n",
       "      <th>Networth Next Year</th>\n",
       "      <th>Equity Paid Up</th>\n",
       "      <th>Networth</th>\n",
       "      <th>Capital Employed</th>\n",
       "      <th>Total Debt</th>\n",
       "      <th>Gross Block</th>\n",
       "      <th>Net Working Capital</th>\n",
       "      <th>Current Assets</th>\n",
       "      <th>...</th>\n",
       "      <th>PBIDTM (%)[Latest]</th>\n",
       "      <th>PBITM (%)[Latest]</th>\n",
       "      <th>PBDTM (%)[Latest]</th>\n",
       "      <th>CPM (%)[Latest]</th>\n",
       "      <th>APATM (%)[Latest]</th>\n",
       "      <th>Debtors Velocity (Days)</th>\n",
       "      <th>Creditors Velocity (Days)</th>\n",
       "      <th>Inventory Velocity (Days)</th>\n",
       "      <th>Value of Output/Total Assets</th>\n",
       "      <th>Value of Output/Gross Block</th>\n",
       "    </tr>\n",
       "  </thead>\n",
       "  <tbody>\n",
       "    <tr>\n",
       "      <th>0</th>\n",
       "      <td>16974</td>\n",
       "      <td>Hind.Cables</td>\n",
       "      <td>-8021.60</td>\n",
       "      <td>419.36</td>\n",
       "      <td>-7027.48</td>\n",
       "      <td>-1007.24</td>\n",
       "      <td>5936.03</td>\n",
       "      <td>474.30</td>\n",
       "      <td>-1076.34</td>\n",
       "      <td>40.50</td>\n",
       "      <td>...</td>\n",
       "      <td>0.00</td>\n",
       "      <td>0.00</td>\n",
       "      <td>0.00</td>\n",
       "      <td>0.00</td>\n",
       "      <td>0.00</td>\n",
       "      <td>0</td>\n",
       "      <td>0</td>\n",
       "      <td>45.0</td>\n",
       "      <td>0.00</td>\n",
       "      <td>0.00</td>\n",
       "    </tr>\n",
       "    <tr>\n",
       "      <th>1</th>\n",
       "      <td>21214</td>\n",
       "      <td>Tata Tele. Mah.</td>\n",
       "      <td>-3986.19</td>\n",
       "      <td>1954.93</td>\n",
       "      <td>-2968.08</td>\n",
       "      <td>4458.20</td>\n",
       "      <td>7410.18</td>\n",
       "      <td>9070.86</td>\n",
       "      <td>-1098.88</td>\n",
       "      <td>486.86</td>\n",
       "      <td>...</td>\n",
       "      <td>-10.30</td>\n",
       "      <td>-39.74</td>\n",
       "      <td>-57.74</td>\n",
       "      <td>-57.74</td>\n",
       "      <td>-87.18</td>\n",
       "      <td>29</td>\n",
       "      <td>101</td>\n",
       "      <td>2.0</td>\n",
       "      <td>0.31</td>\n",
       "      <td>0.24</td>\n",
       "    </tr>\n",
       "    <tr>\n",
       "      <th>2</th>\n",
       "      <td>14852</td>\n",
       "      <td>ABG Shipyard</td>\n",
       "      <td>-3192.58</td>\n",
       "      <td>53.84</td>\n",
       "      <td>506.86</td>\n",
       "      <td>7714.68</td>\n",
       "      <td>6944.54</td>\n",
       "      <td>1281.54</td>\n",
       "      <td>4496.25</td>\n",
       "      <td>9097.64</td>\n",
       "      <td>...</td>\n",
       "      <td>-5279.14</td>\n",
       "      <td>-5516.98</td>\n",
       "      <td>-7780.25</td>\n",
       "      <td>-7723.67</td>\n",
       "      <td>-7961.51</td>\n",
       "      <td>97</td>\n",
       "      <td>558</td>\n",
       "      <td>0.0</td>\n",
       "      <td>-0.03</td>\n",
       "      <td>-0.26</td>\n",
       "    </tr>\n",
       "    <tr>\n",
       "      <th>3</th>\n",
       "      <td>2439</td>\n",
       "      <td>GTL</td>\n",
       "      <td>-3054.51</td>\n",
       "      <td>157.30</td>\n",
       "      <td>-623.49</td>\n",
       "      <td>2353.88</td>\n",
       "      <td>2326.05</td>\n",
       "      <td>1033.69</td>\n",
       "      <td>-2612.42</td>\n",
       "      <td>1034.12</td>\n",
       "      <td>...</td>\n",
       "      <td>-3.33</td>\n",
       "      <td>-7.21</td>\n",
       "      <td>-48.13</td>\n",
       "      <td>-47.70</td>\n",
       "      <td>-51.58</td>\n",
       "      <td>93</td>\n",
       "      <td>63</td>\n",
       "      <td>2.0</td>\n",
       "      <td>0.24</td>\n",
       "      <td>1.90</td>\n",
       "    </tr>\n",
       "    <tr>\n",
       "      <th>4</th>\n",
       "      <td>23505</td>\n",
       "      <td>Bharati Defence</td>\n",
       "      <td>-2967.36</td>\n",
       "      <td>50.30</td>\n",
       "      <td>-1070.83</td>\n",
       "      <td>4675.33</td>\n",
       "      <td>5740.90</td>\n",
       "      <td>1084.20</td>\n",
       "      <td>1836.23</td>\n",
       "      <td>4685.81</td>\n",
       "      <td>...</td>\n",
       "      <td>-295.55</td>\n",
       "      <td>-400.55</td>\n",
       "      <td>-845.88</td>\n",
       "      <td>379.79</td>\n",
       "      <td>274.79</td>\n",
       "      <td>3887</td>\n",
       "      <td>346</td>\n",
       "      <td>0.0</td>\n",
       "      <td>0.01</td>\n",
       "      <td>0.05</td>\n",
       "    </tr>\n",
       "  </tbody>\n",
       "</table>\n",
       "<p>5 rows × 67 columns</p>\n",
       "</div>"
      ],
      "text/plain": [
       "   Co_Code          Co_Name  Networth Next Year  Equity Paid Up  Networth  \\\n",
       "0    16974      Hind.Cables            -8021.60          419.36  -7027.48   \n",
       "1    21214  Tata Tele. Mah.            -3986.19         1954.93  -2968.08   \n",
       "2    14852     ABG Shipyard            -3192.58           53.84    506.86   \n",
       "3     2439              GTL            -3054.51          157.30   -623.49   \n",
       "4    23505  Bharati Defence            -2967.36           50.30  -1070.83   \n",
       "\n",
       "   Capital Employed  Total Debt  Gross Block   Net Working Capital   \\\n",
       "0          -1007.24     5936.03        474.30              -1076.34   \n",
       "1           4458.20     7410.18       9070.86              -1098.88   \n",
       "2           7714.68     6944.54       1281.54               4496.25   \n",
       "3           2353.88     2326.05       1033.69              -2612.42   \n",
       "4           4675.33     5740.90       1084.20               1836.23   \n",
       "\n",
       "   Current Assets   ...  PBIDTM (%)[Latest]  PBITM (%)[Latest]  \\\n",
       "0            40.50  ...                0.00               0.00   \n",
       "1           486.86  ...              -10.30             -39.74   \n",
       "2          9097.64  ...            -5279.14           -5516.98   \n",
       "3          1034.12  ...               -3.33              -7.21   \n",
       "4          4685.81  ...             -295.55            -400.55   \n",
       "\n",
       "   PBDTM (%)[Latest]  CPM (%)[Latest]  APATM (%)[Latest]  \\\n",
       "0               0.00             0.00               0.00   \n",
       "1             -57.74           -57.74             -87.18   \n",
       "2           -7780.25         -7723.67           -7961.51   \n",
       "3             -48.13           -47.70             -51.58   \n",
       "4            -845.88           379.79             274.79   \n",
       "\n",
       "   Debtors Velocity (Days)  Creditors Velocity (Days)  \\\n",
       "0                        0                          0   \n",
       "1                       29                        101   \n",
       "2                       97                        558   \n",
       "3                       93                         63   \n",
       "4                     3887                        346   \n",
       "\n",
       "   Inventory Velocity (Days)  Value of Output/Total Assets  \\\n",
       "0                       45.0                          0.00   \n",
       "1                        2.0                          0.31   \n",
       "2                        0.0                         -0.03   \n",
       "3                        2.0                          0.24   \n",
       "4                        0.0                          0.01   \n",
       "\n",
       "   Value of Output/Gross Block  \n",
       "0                         0.00  \n",
       "1                         0.24  \n",
       "2                        -0.26  \n",
       "3                         1.90  \n",
       "4                         0.05  \n",
       "\n",
       "[5 rows x 67 columns]"
      ]
     },
     "execution_count": 2,
     "metadata": {},
     "output_type": "execute_result"
    }
   ],
   "source": [
    "Company = pd.read_excel('Company_Data2015-1.xlsx')\n",
    "\n",
    "#Glimpse of Data\n",
    "Company.head()"
   ]
  },
  {
   "cell_type": "markdown",
   "metadata": {},
   "source": [
    "# Fixing messy column names (containing spaces) for ease of use"
   ]
  },
  {
   "cell_type": "code",
   "execution_count": 3,
   "metadata": {},
   "outputs": [],
   "source": [
    "Company.columns = Company.columns.str.replace(' ', '_').str.replace('(', '').str.replace(')', '').str.replace('%', 'perc').str.replace('/', '_to_')"
   ]
  },
  {
   "cell_type": "markdown",
   "metadata": {},
   "source": [
    "# Converting all objects to categorical codes"
   ]
  },
  {
   "cell_type": "code",
   "execution_count": 4,
   "metadata": {},
   "outputs": [],
   "source": [
    "Company['Co_Code'] = (Company['Co_Code']).apply(str) "
   ]
  },
  {
   "cell_type": "code",
   "execution_count": 5,
   "metadata": {},
   "outputs": [],
   "source": [
    "for feature in Company.columns: \n",
    "    if Company[feature].dtype == 'object':\n",
    "        Company[feature] = pd.Categorical(Company[feature]).codes "
   ]
  },
  {
   "cell_type": "markdown",
   "metadata": {},
   "source": [
    "# Checking top 5 rows again"
   ]
  },
  {
   "cell_type": "code",
   "execution_count": 6,
   "metadata": {},
   "outputs": [
    {
     "data": {
      "text/html": [
       "<div>\n",
       "<style scoped>\n",
       "    .dataframe tbody tr th:only-of-type {\n",
       "        vertical-align: middle;\n",
       "    }\n",
       "\n",
       "    .dataframe tbody tr th {\n",
       "        vertical-align: top;\n",
       "    }\n",
       "\n",
       "    .dataframe thead th {\n",
       "        text-align: right;\n",
       "    }\n",
       "</style>\n",
       "<table border=\"1\" class=\"dataframe\">\n",
       "  <thead>\n",
       "    <tr style=\"text-align: right;\">\n",
       "      <th></th>\n",
       "      <th>Co_Code</th>\n",
       "      <th>Co_Name</th>\n",
       "      <th>Networth_Next_Year</th>\n",
       "      <th>Equity_Paid_Up</th>\n",
       "      <th>Networth</th>\n",
       "      <th>Capital_Employed</th>\n",
       "      <th>Total_Debt</th>\n",
       "      <th>Gross_Block_</th>\n",
       "      <th>Net_Working_Capital_</th>\n",
       "      <th>Current_Assets_</th>\n",
       "      <th>...</th>\n",
       "      <th>PBIDTM_perc[Latest]</th>\n",
       "      <th>PBITM_perc[Latest]</th>\n",
       "      <th>PBDTM_perc[Latest]</th>\n",
       "      <th>CPM_perc[Latest]</th>\n",
       "      <th>APATM_perc[Latest]</th>\n",
       "      <th>Debtors_Velocity_Days</th>\n",
       "      <th>Creditors_Velocity_Days</th>\n",
       "      <th>Inventory_Velocity_Days</th>\n",
       "      <th>Value_of_Output_to_Total_Assets</th>\n",
       "      <th>Value_of_Output_to_Gross_Block</th>\n",
       "    </tr>\n",
       "  </thead>\n",
       "  <tbody>\n",
       "    <tr>\n",
       "      <th>0</th>\n",
       "      <td>459</td>\n",
       "      <td>1226</td>\n",
       "      <td>-8021.60</td>\n",
       "      <td>419.36</td>\n",
       "      <td>-7027.48</td>\n",
       "      <td>-1007.24</td>\n",
       "      <td>5936.03</td>\n",
       "      <td>474.30</td>\n",
       "      <td>-1076.34</td>\n",
       "      <td>40.50</td>\n",
       "      <td>...</td>\n",
       "      <td>0.00</td>\n",
       "      <td>0.00</td>\n",
       "      <td>0.00</td>\n",
       "      <td>0.00</td>\n",
       "      <td>0.00</td>\n",
       "      <td>0</td>\n",
       "      <td>0</td>\n",
       "      <td>45.0</td>\n",
       "      <td>0.00</td>\n",
       "      <td>0.00</td>\n",
       "    </tr>\n",
       "    <tr>\n",
       "      <th>1</th>\n",
       "      <td>704</td>\n",
       "      <td>3214</td>\n",
       "      <td>-3986.19</td>\n",
       "      <td>1954.93</td>\n",
       "      <td>-2968.08</td>\n",
       "      <td>4458.20</td>\n",
       "      <td>7410.18</td>\n",
       "      <td>9070.86</td>\n",
       "      <td>-1098.88</td>\n",
       "      <td>486.86</td>\n",
       "      <td>...</td>\n",
       "      <td>-10.30</td>\n",
       "      <td>-39.74</td>\n",
       "      <td>-57.74</td>\n",
       "      <td>-57.74</td>\n",
       "      <td>-87.18</td>\n",
       "      <td>29</td>\n",
       "      <td>101</td>\n",
       "      <td>2.0</td>\n",
       "      <td>0.31</td>\n",
       "      <td>0.24</td>\n",
       "    </tr>\n",
       "    <tr>\n",
       "      <th>2</th>\n",
       "      <td>333</td>\n",
       "      <td>21</td>\n",
       "      <td>-3192.58</td>\n",
       "      <td>53.84</td>\n",
       "      <td>506.86</td>\n",
       "      <td>7714.68</td>\n",
       "      <td>6944.54</td>\n",
       "      <td>1281.54</td>\n",
       "      <td>4496.25</td>\n",
       "      <td>9097.64</td>\n",
       "      <td>...</td>\n",
       "      <td>-5279.14</td>\n",
       "      <td>-5516.98</td>\n",
       "      <td>-7780.25</td>\n",
       "      <td>-7723.67</td>\n",
       "      <td>-7961.51</td>\n",
       "      <td>97</td>\n",
       "      <td>558</td>\n",
       "      <td>0.0</td>\n",
       "      <td>-0.03</td>\n",
       "      <td>-0.26</td>\n",
       "    </tr>\n",
       "    <tr>\n",
       "      <th>3</th>\n",
       "      <td>963</td>\n",
       "      <td>1001</td>\n",
       "      <td>-3054.51</td>\n",
       "      <td>157.30</td>\n",
       "      <td>-623.49</td>\n",
       "      <td>2353.88</td>\n",
       "      <td>2326.05</td>\n",
       "      <td>1033.69</td>\n",
       "      <td>-2612.42</td>\n",
       "      <td>1034.12</td>\n",
       "      <td>...</td>\n",
       "      <td>-3.33</td>\n",
       "      <td>-7.21</td>\n",
       "      <td>-48.13</td>\n",
       "      <td>-47.70</td>\n",
       "      <td>-51.58</td>\n",
       "      <td>93</td>\n",
       "      <td>63</td>\n",
       "      <td>2.0</td>\n",
       "      <td>0.24</td>\n",
       "      <td>1.90</td>\n",
       "    </tr>\n",
       "    <tr>\n",
       "      <th>4</th>\n",
       "      <td>884</td>\n",
       "      <td>452</td>\n",
       "      <td>-2967.36</td>\n",
       "      <td>50.30</td>\n",
       "      <td>-1070.83</td>\n",
       "      <td>4675.33</td>\n",
       "      <td>5740.90</td>\n",
       "      <td>1084.20</td>\n",
       "      <td>1836.23</td>\n",
       "      <td>4685.81</td>\n",
       "      <td>...</td>\n",
       "      <td>-295.55</td>\n",
       "      <td>-400.55</td>\n",
       "      <td>-845.88</td>\n",
       "      <td>379.79</td>\n",
       "      <td>274.79</td>\n",
       "      <td>3887</td>\n",
       "      <td>346</td>\n",
       "      <td>0.0</td>\n",
       "      <td>0.01</td>\n",
       "      <td>0.05</td>\n",
       "    </tr>\n",
       "  </tbody>\n",
       "</table>\n",
       "<p>5 rows × 67 columns</p>\n",
       "</div>"
      ],
      "text/plain": [
       "   Co_Code  Co_Name  Networth_Next_Year  Equity_Paid_Up  Networth  \\\n",
       "0      459     1226            -8021.60          419.36  -7027.48   \n",
       "1      704     3214            -3986.19         1954.93  -2968.08   \n",
       "2      333       21            -3192.58           53.84    506.86   \n",
       "3      963     1001            -3054.51          157.30   -623.49   \n",
       "4      884      452            -2967.36           50.30  -1070.83   \n",
       "\n",
       "   Capital_Employed  Total_Debt  Gross_Block_  Net_Working_Capital_  \\\n",
       "0          -1007.24     5936.03        474.30              -1076.34   \n",
       "1           4458.20     7410.18       9070.86              -1098.88   \n",
       "2           7714.68     6944.54       1281.54               4496.25   \n",
       "3           2353.88     2326.05       1033.69              -2612.42   \n",
       "4           4675.33     5740.90       1084.20               1836.23   \n",
       "\n",
       "   Current_Assets_  ...  PBIDTM_perc[Latest]  PBITM_perc[Latest]  \\\n",
       "0            40.50  ...                 0.00                0.00   \n",
       "1           486.86  ...               -10.30              -39.74   \n",
       "2          9097.64  ...             -5279.14            -5516.98   \n",
       "3          1034.12  ...                -3.33               -7.21   \n",
       "4          4685.81  ...              -295.55             -400.55   \n",
       "\n",
       "   PBDTM_perc[Latest]  CPM_perc[Latest]  APATM_perc[Latest]  \\\n",
       "0                0.00              0.00                0.00   \n",
       "1              -57.74            -57.74              -87.18   \n",
       "2            -7780.25          -7723.67            -7961.51   \n",
       "3              -48.13            -47.70              -51.58   \n",
       "4             -845.88            379.79              274.79   \n",
       "\n",
       "   Debtors_Velocity_Days  Creditors_Velocity_Days  Inventory_Velocity_Days  \\\n",
       "0                      0                        0                     45.0   \n",
       "1                     29                      101                      2.0   \n",
       "2                     97                      558                      0.0   \n",
       "3                     93                       63                      2.0   \n",
       "4                   3887                      346                      0.0   \n",
       "\n",
       "   Value_of_Output_to_Total_Assets  Value_of_Output_to_Gross_Block  \n",
       "0                             0.00                            0.00  \n",
       "1                             0.31                            0.24  \n",
       "2                            -0.03                           -0.26  \n",
       "3                             0.24                            1.90  \n",
       "4                             0.01                            0.05  \n",
       "\n",
       "[5 rows x 67 columns]"
      ]
     },
     "execution_count": 6,
     "metadata": {},
     "output_type": "execute_result"
    }
   ],
   "source": [
    "Company.head()"
   ]
  },
  {
   "cell_type": "markdown",
   "metadata": {},
   "source": [
    "# Now, let us check the number of rows (observations) and the number of columns (variables)"
   ]
  },
  {
   "cell_type": "code",
   "execution_count": 7,
   "metadata": {},
   "outputs": [
    {
     "name": "stdout",
     "output_type": "stream",
     "text": [
      "The number of rows (observations) is 3586 \n",
      "The number of columns (variables) is 67\n"
     ]
    }
   ],
   "source": [
    "print('The number of rows (observations) is',Company.shape[0],'\\n''The number of columns (variables) is',Company.shape[1])"
   ]
  },
  {
   "cell_type": "markdown",
   "metadata": {},
   "source": [
    "# Checking datatype of all columns"
   ]
  },
  {
   "cell_type": "code",
   "execution_count": 8,
   "metadata": {
    "scrolled": true
   },
   "outputs": [
    {
     "name": "stdout",
     "output_type": "stream",
     "text": [
      "<class 'pandas.core.frame.DataFrame'>\n",
      "RangeIndex: 3586 entries, 0 to 3585\n",
      "Data columns (total 67 columns):\n",
      " #   Column                               Non-Null Count  Dtype  \n",
      "---  ------                               --------------  -----  \n",
      " 0   Co_Code                              3586 non-null   int16  \n",
      " 1   Co_Name                              3586 non-null   int16  \n",
      " 2   Networth_Next_Year                   3586 non-null   float64\n",
      " 3   Equity_Paid_Up                       3586 non-null   float64\n",
      " 4   Networth                             3586 non-null   float64\n",
      " 5   Capital_Employed                     3586 non-null   float64\n",
      " 6   Total_Debt                           3586 non-null   float64\n",
      " 7   Gross_Block_                         3586 non-null   float64\n",
      " 8   Net_Working_Capital_                 3586 non-null   float64\n",
      " 9   Current_Assets_                      3586 non-null   float64\n",
      " 10  Current_Liabilities_and_Provisions_  3586 non-null   float64\n",
      " 11  Total_Assets_to_Liabilities_         3586 non-null   float64\n",
      " 12  Gross_Sales                          3586 non-null   float64\n",
      " 13  Net_Sales                            3586 non-null   float64\n",
      " 14  Other_Income                         3586 non-null   float64\n",
      " 15  Value_Of_Output                      3586 non-null   float64\n",
      " 16  Cost_of_Production                   3586 non-null   float64\n",
      " 17  Selling_Cost                         3586 non-null   float64\n",
      " 18  PBIDT                                3586 non-null   float64\n",
      " 19  PBDT                                 3586 non-null   float64\n",
      " 20  PBIT                                 3586 non-null   float64\n",
      " 21  PBT                                  3586 non-null   float64\n",
      " 22  PAT                                  3586 non-null   float64\n",
      " 23  Adjusted_PAT                         3586 non-null   float64\n",
      " 24  CP                                   3586 non-null   float64\n",
      " 25  Revenue_earnings_in_forex            3586 non-null   float64\n",
      " 26  Revenue_expenses_in_forex            3586 non-null   float64\n",
      " 27  Capital_expenses_in_forex            3586 non-null   float64\n",
      " 28  Book_Value_Unit_Curr                 3586 non-null   float64\n",
      " 29  Book_Value_Adj._Unit_Curr            3582 non-null   float64\n",
      " 30  Market_Capitalisation                3586 non-null   float64\n",
      " 31  CEPS_annualised_Unit_Curr            3586 non-null   float64\n",
      " 32  Cash_Flow_From_Operating_Activities  3586 non-null   float64\n",
      " 33  Cash_Flow_From_Investing_Activities  3586 non-null   float64\n",
      " 34  Cash_Flow_From_Financing_Activities  3586 non-null   float64\n",
      " 35  ROG-Net_Worth_perc                   3586 non-null   float64\n",
      " 36  ROG-Capital_Employed_perc            3586 non-null   float64\n",
      " 37  ROG-Gross_Block_perc                 3586 non-null   float64\n",
      " 38  ROG-Gross_Sales_perc                 3586 non-null   float64\n",
      " 39  ROG-Net_Sales_perc                   3586 non-null   float64\n",
      " 40  ROG-Cost_of_Production_perc          3586 non-null   float64\n",
      " 41  ROG-Total_Assets_perc                3586 non-null   float64\n",
      " 42  ROG-PBIDT_perc                       3586 non-null   float64\n",
      " 43  ROG-PBDT_perc                        3586 non-null   float64\n",
      " 44  ROG-PBIT_perc                        3586 non-null   float64\n",
      " 45  ROG-PBT_perc                         3586 non-null   float64\n",
      " 46  ROG-PAT_perc                         3586 non-null   float64\n",
      " 47  ROG-CP_perc                          3586 non-null   float64\n",
      " 48  ROG-Revenue_earnings_in_forex_perc   3586 non-null   float64\n",
      " 49  ROG-Revenue_expenses_in_forex_perc   3586 non-null   float64\n",
      " 50  ROG-Market_Capitalisation_perc       3586 non-null   float64\n",
      " 51  Current_Ratio[Latest]                3585 non-null   float64\n",
      " 52  Fixed_Assets_Ratio[Latest]           3585 non-null   float64\n",
      " 53  Inventory_Ratio[Latest]              3585 non-null   float64\n",
      " 54  Debtors_Ratio[Latest]                3585 non-null   float64\n",
      " 55  Total_Asset_Turnover_Ratio[Latest]   3585 non-null   float64\n",
      " 56  Interest_Cover_Ratio[Latest]         3585 non-null   float64\n",
      " 57  PBIDTM_perc[Latest]                  3585 non-null   float64\n",
      " 58  PBITM_perc[Latest]                   3585 non-null   float64\n",
      " 59  PBDTM_perc[Latest]                   3585 non-null   float64\n",
      " 60  CPM_perc[Latest]                     3585 non-null   float64\n",
      " 61  APATM_perc[Latest]                   3585 non-null   float64\n",
      " 62  Debtors_Velocity_Days                3586 non-null   int64  \n",
      " 63  Creditors_Velocity_Days              3586 non-null   int64  \n",
      " 64  Inventory_Velocity_Days              3483 non-null   float64\n",
      " 65  Value_of_Output_to_Total_Assets      3586 non-null   float64\n",
      " 66  Value_of_Output_to_Gross_Block       3586 non-null   float64\n",
      "dtypes: float64(63), int16(2), int64(2)\n",
      "memory usage: 1.8 MB\n"
     ]
    }
   ],
   "source": [
    "Company.info()"
   ]
  },
  {
   "cell_type": "markdown",
   "metadata": {},
   "source": [
    "# Now, let us check the basic measures of descriptive statistics for the continuous variables\n"
   ]
  },
  {
   "cell_type": "code",
   "execution_count": 9,
   "metadata": {},
   "outputs": [
    {
     "data": {
      "text/html": [
       "<div>\n",
       "<style scoped>\n",
       "    .dataframe tbody tr th:only-of-type {\n",
       "        vertical-align: middle;\n",
       "    }\n",
       "\n",
       "    .dataframe tbody tr th {\n",
       "        vertical-align: top;\n",
       "    }\n",
       "\n",
       "    .dataframe thead th {\n",
       "        text-align: right;\n",
       "    }\n",
       "</style>\n",
       "<table border=\"1\" class=\"dataframe\">\n",
       "  <thead>\n",
       "    <tr style=\"text-align: right;\">\n",
       "      <th></th>\n",
       "      <th>Co_Code</th>\n",
       "      <th>Co_Name</th>\n",
       "      <th>Networth_Next_Year</th>\n",
       "      <th>Equity_Paid_Up</th>\n",
       "      <th>Networth</th>\n",
       "      <th>Capital_Employed</th>\n",
       "      <th>Total_Debt</th>\n",
       "      <th>Gross_Block_</th>\n",
       "      <th>Net_Working_Capital_</th>\n",
       "      <th>Current_Assets_</th>\n",
       "      <th>...</th>\n",
       "      <th>PBIDTM_perc[Latest]</th>\n",
       "      <th>PBITM_perc[Latest]</th>\n",
       "      <th>PBDTM_perc[Latest]</th>\n",
       "      <th>CPM_perc[Latest]</th>\n",
       "      <th>APATM_perc[Latest]</th>\n",
       "      <th>Debtors_Velocity_Days</th>\n",
       "      <th>Creditors_Velocity_Days</th>\n",
       "      <th>Inventory_Velocity_Days</th>\n",
       "      <th>Value_of_Output_to_Total_Assets</th>\n",
       "      <th>Value_of_Output_to_Gross_Block</th>\n",
       "    </tr>\n",
       "  </thead>\n",
       "  <tbody>\n",
       "    <tr>\n",
       "      <th>count</th>\n",
       "      <td>3586.00000</td>\n",
       "      <td>3586.00000</td>\n",
       "      <td>3586.000000</td>\n",
       "      <td>3586.000000</td>\n",
       "      <td>3586.000000</td>\n",
       "      <td>3586.000000</td>\n",
       "      <td>3586.000000</td>\n",
       "      <td>3586.000000</td>\n",
       "      <td>3586.000000</td>\n",
       "      <td>3586.000000</td>\n",
       "      <td>...</td>\n",
       "      <td>3585.000000</td>\n",
       "      <td>3585.000000</td>\n",
       "      <td>3585.000000</td>\n",
       "      <td>3585.000000</td>\n",
       "      <td>3585.000000</td>\n",
       "      <td>3586.000000</td>\n",
       "      <td>3.586000e+03</td>\n",
       "      <td>3483.000000</td>\n",
       "      <td>3586.000000</td>\n",
       "      <td>3586.000000</td>\n",
       "    </tr>\n",
       "    <tr>\n",
       "      <th>mean</th>\n",
       "      <td>1792.50000</td>\n",
       "      <td>1792.50000</td>\n",
       "      <td>725.045251</td>\n",
       "      <td>62.966584</td>\n",
       "      <td>649.746299</td>\n",
       "      <td>2799.611054</td>\n",
       "      <td>1994.823779</td>\n",
       "      <td>594.178829</td>\n",
       "      <td>410.809665</td>\n",
       "      <td>1960.349172</td>\n",
       "      <td>...</td>\n",
       "      <td>-51.162890</td>\n",
       "      <td>-109.213414</td>\n",
       "      <td>-311.570357</td>\n",
       "      <td>-307.005632</td>\n",
       "      <td>-365.056187</td>\n",
       "      <td>603.894032</td>\n",
       "      <td>2.057855e+03</td>\n",
       "      <td>79.644559</td>\n",
       "      <td>0.819757</td>\n",
       "      <td>61.884548</td>\n",
       "    </tr>\n",
       "    <tr>\n",
       "      <th>std</th>\n",
       "      <td>1035.33336</td>\n",
       "      <td>1035.33336</td>\n",
       "      <td>4769.681004</td>\n",
       "      <td>778.761744</td>\n",
       "      <td>4091.988792</td>\n",
       "      <td>26975.135385</td>\n",
       "      <td>23652.842746</td>\n",
       "      <td>4871.547802</td>\n",
       "      <td>6301.218546</td>\n",
       "      <td>22577.570829</td>\n",
       "      <td>...</td>\n",
       "      <td>1795.131025</td>\n",
       "      <td>3057.635870</td>\n",
       "      <td>10921.592639</td>\n",
       "      <td>10676.149629</td>\n",
       "      <td>12500.051387</td>\n",
       "      <td>10636.759580</td>\n",
       "      <td>5.416948e+04</td>\n",
       "      <td>137.847792</td>\n",
       "      <td>1.201400</td>\n",
       "      <td>976.824352</td>\n",
       "    </tr>\n",
       "    <tr>\n",
       "      <th>min</th>\n",
       "      <td>0.00000</td>\n",
       "      <td>0.00000</td>\n",
       "      <td>-8021.600000</td>\n",
       "      <td>0.000000</td>\n",
       "      <td>-7027.480000</td>\n",
       "      <td>-1824.750000</td>\n",
       "      <td>-0.720000</td>\n",
       "      <td>-41.190000</td>\n",
       "      <td>-13162.420000</td>\n",
       "      <td>-0.910000</td>\n",
       "      <td>...</td>\n",
       "      <td>-78870.450000</td>\n",
       "      <td>-141600.000000</td>\n",
       "      <td>-590500.000000</td>\n",
       "      <td>-572000.000000</td>\n",
       "      <td>-688600.000000</td>\n",
       "      <td>0.000000</td>\n",
       "      <td>0.000000e+00</td>\n",
       "      <td>-199.000000</td>\n",
       "      <td>-0.330000</td>\n",
       "      <td>-61.000000</td>\n",
       "    </tr>\n",
       "    <tr>\n",
       "      <th>25%</th>\n",
       "      <td>896.25000</td>\n",
       "      <td>896.25000</td>\n",
       "      <td>3.985000</td>\n",
       "      <td>3.750000</td>\n",
       "      <td>3.892500</td>\n",
       "      <td>7.602500</td>\n",
       "      <td>0.030000</td>\n",
       "      <td>0.570000</td>\n",
       "      <td>0.942500</td>\n",
       "      <td>4.000000</td>\n",
       "      <td>...</td>\n",
       "      <td>0.000000</td>\n",
       "      <td>0.000000</td>\n",
       "      <td>0.000000</td>\n",
       "      <td>0.000000</td>\n",
       "      <td>0.000000</td>\n",
       "      <td>8.000000</td>\n",
       "      <td>8.000000e+00</td>\n",
       "      <td>0.000000</td>\n",
       "      <td>0.070000</td>\n",
       "      <td>0.270000</td>\n",
       "    </tr>\n",
       "    <tr>\n",
       "      <th>50%</th>\n",
       "      <td>1792.50000</td>\n",
       "      <td>1792.50000</td>\n",
       "      <td>19.015000</td>\n",
       "      <td>8.290000</td>\n",
       "      <td>18.580000</td>\n",
       "      <td>39.090000</td>\n",
       "      <td>7.490000</td>\n",
       "      <td>15.870000</td>\n",
       "      <td>10.145000</td>\n",
       "      <td>24.540000</td>\n",
       "      <td>...</td>\n",
       "      <td>8.070000</td>\n",
       "      <td>5.230000</td>\n",
       "      <td>4.690000</td>\n",
       "      <td>3.890000</td>\n",
       "      <td>1.590000</td>\n",
       "      <td>49.000000</td>\n",
       "      <td>3.900000e+01</td>\n",
       "      <td>35.000000</td>\n",
       "      <td>0.480000</td>\n",
       "      <td>1.530000</td>\n",
       "    </tr>\n",
       "    <tr>\n",
       "      <th>75%</th>\n",
       "      <td>2688.75000</td>\n",
       "      <td>2688.75000</td>\n",
       "      <td>123.802500</td>\n",
       "      <td>19.517500</td>\n",
       "      <td>117.297500</td>\n",
       "      <td>226.605000</td>\n",
       "      <td>72.350000</td>\n",
       "      <td>131.895000</td>\n",
       "      <td>61.175000</td>\n",
       "      <td>135.277500</td>\n",
       "      <td>...</td>\n",
       "      <td>18.990000</td>\n",
       "      <td>14.290000</td>\n",
       "      <td>14.110000</td>\n",
       "      <td>11.390000</td>\n",
       "      <td>7.410000</td>\n",
       "      <td>106.000000</td>\n",
       "      <td>8.900000e+01</td>\n",
       "      <td>96.000000</td>\n",
       "      <td>1.160000</td>\n",
       "      <td>4.910000</td>\n",
       "    </tr>\n",
       "    <tr>\n",
       "      <th>max</th>\n",
       "      <td>3585.00000</td>\n",
       "      <td>3585.00000</td>\n",
       "      <td>111729.100000</td>\n",
       "      <td>42263.460000</td>\n",
       "      <td>81657.350000</td>\n",
       "      <td>714001.250000</td>\n",
       "      <td>652823.810000</td>\n",
       "      <td>128477.590000</td>\n",
       "      <td>223257.560000</td>\n",
       "      <td>721166.000000</td>\n",
       "      <td>...</td>\n",
       "      <td>19233.330000</td>\n",
       "      <td>19195.700000</td>\n",
       "      <td>15640.000000</td>\n",
       "      <td>15640.000000</td>\n",
       "      <td>15266.670000</td>\n",
       "      <td>514721.000000</td>\n",
       "      <td>2.034145e+06</td>\n",
       "      <td>996.000000</td>\n",
       "      <td>17.630000</td>\n",
       "      <td>43404.000000</td>\n",
       "    </tr>\n",
       "  </tbody>\n",
       "</table>\n",
       "<p>8 rows × 67 columns</p>\n",
       "</div>"
      ],
      "text/plain": [
       "          Co_Code     Co_Name  Networth_Next_Year  Equity_Paid_Up  \\\n",
       "count  3586.00000  3586.00000         3586.000000     3586.000000   \n",
       "mean   1792.50000  1792.50000          725.045251       62.966584   \n",
       "std    1035.33336  1035.33336         4769.681004      778.761744   \n",
       "min       0.00000     0.00000        -8021.600000        0.000000   \n",
       "25%     896.25000   896.25000            3.985000        3.750000   \n",
       "50%    1792.50000  1792.50000           19.015000        8.290000   \n",
       "75%    2688.75000  2688.75000          123.802500       19.517500   \n",
       "max    3585.00000  3585.00000       111729.100000    42263.460000   \n",
       "\n",
       "           Networth  Capital_Employed     Total_Debt   Gross_Block_  \\\n",
       "count   3586.000000       3586.000000    3586.000000    3586.000000   \n",
       "mean     649.746299       2799.611054    1994.823779     594.178829   \n",
       "std     4091.988792      26975.135385   23652.842746    4871.547802   \n",
       "min    -7027.480000      -1824.750000      -0.720000     -41.190000   \n",
       "25%        3.892500          7.602500       0.030000       0.570000   \n",
       "50%       18.580000         39.090000       7.490000      15.870000   \n",
       "75%      117.297500        226.605000      72.350000     131.895000   \n",
       "max    81657.350000     714001.250000  652823.810000  128477.590000   \n",
       "\n",
       "       Net_Working_Capital_  Current_Assets_  ...  PBIDTM_perc[Latest]  \\\n",
       "count           3586.000000      3586.000000  ...          3585.000000   \n",
       "mean             410.809665      1960.349172  ...           -51.162890   \n",
       "std             6301.218546     22577.570829  ...          1795.131025   \n",
       "min           -13162.420000        -0.910000  ...        -78870.450000   \n",
       "25%                0.942500         4.000000  ...             0.000000   \n",
       "50%               10.145000        24.540000  ...             8.070000   \n",
       "75%               61.175000       135.277500  ...            18.990000   \n",
       "max           223257.560000    721166.000000  ...         19233.330000   \n",
       "\n",
       "       PBITM_perc[Latest]  PBDTM_perc[Latest]  CPM_perc[Latest]  \\\n",
       "count         3585.000000         3585.000000       3585.000000   \n",
       "mean          -109.213414         -311.570357       -307.005632   \n",
       "std           3057.635870        10921.592639      10676.149629   \n",
       "min        -141600.000000      -590500.000000    -572000.000000   \n",
       "25%              0.000000            0.000000          0.000000   \n",
       "50%              5.230000            4.690000          3.890000   \n",
       "75%             14.290000           14.110000         11.390000   \n",
       "max          19195.700000        15640.000000      15640.000000   \n",
       "\n",
       "       APATM_perc[Latest]  Debtors_Velocity_Days  Creditors_Velocity_Days  \\\n",
       "count         3585.000000            3586.000000             3.586000e+03   \n",
       "mean          -365.056187             603.894032             2.057855e+03   \n",
       "std          12500.051387           10636.759580             5.416948e+04   \n",
       "min        -688600.000000               0.000000             0.000000e+00   \n",
       "25%              0.000000               8.000000             8.000000e+00   \n",
       "50%              1.590000              49.000000             3.900000e+01   \n",
       "75%              7.410000             106.000000             8.900000e+01   \n",
       "max          15266.670000          514721.000000             2.034145e+06   \n",
       "\n",
       "       Inventory_Velocity_Days  Value_of_Output_to_Total_Assets  \\\n",
       "count              3483.000000                      3586.000000   \n",
       "mean                 79.644559                         0.819757   \n",
       "std                 137.847792                         1.201400   \n",
       "min                -199.000000                        -0.330000   \n",
       "25%                   0.000000                         0.070000   \n",
       "50%                  35.000000                         0.480000   \n",
       "75%                  96.000000                         1.160000   \n",
       "max                 996.000000                        17.630000   \n",
       "\n",
       "       Value_of_Output_to_Gross_Block  \n",
       "count                     3586.000000  \n",
       "mean                        61.884548  \n",
       "std                        976.824352  \n",
       "min                        -61.000000  \n",
       "25%                          0.270000  \n",
       "50%                          1.530000  \n",
       "75%                          4.910000  \n",
       "max                      43404.000000  \n",
       "\n",
       "[8 rows x 67 columns]"
      ]
     },
     "execution_count": 9,
     "metadata": {},
     "output_type": "execute_result"
    }
   ],
   "source": [
    "\n",
    "Company.describe()"
   ]
  },
  {
   "cell_type": "code",
   "execution_count": 10,
   "metadata": {},
   "outputs": [
    {
     "data": {
      "text/html": [
       "<div>\n",
       "<style scoped>\n",
       "    .dataframe tbody tr th:only-of-type {\n",
       "        vertical-align: middle;\n",
       "    }\n",
       "\n",
       "    .dataframe tbody tr th {\n",
       "        vertical-align: top;\n",
       "    }\n",
       "\n",
       "    .dataframe thead th {\n",
       "        text-align: right;\n",
       "    }\n",
       "</style>\n",
       "<table border=\"1\" class=\"dataframe\">\n",
       "  <thead>\n",
       "    <tr style=\"text-align: right;\">\n",
       "      <th></th>\n",
       "      <th>Co_Code</th>\n",
       "      <th>Co_Name</th>\n",
       "      <th>Networth_Next_Year</th>\n",
       "      <th>Equity_Paid_Up</th>\n",
       "      <th>Networth</th>\n",
       "      <th>Capital_Employed</th>\n",
       "      <th>Total_Debt</th>\n",
       "      <th>Gross_Block_</th>\n",
       "      <th>Net_Working_Capital_</th>\n",
       "      <th>Current_Assets_</th>\n",
       "      <th>...</th>\n",
       "      <th>PBIDTM_perc[Latest]</th>\n",
       "      <th>PBITM_perc[Latest]</th>\n",
       "      <th>PBDTM_perc[Latest]</th>\n",
       "      <th>CPM_perc[Latest]</th>\n",
       "      <th>APATM_perc[Latest]</th>\n",
       "      <th>Debtors_Velocity_Days</th>\n",
       "      <th>Creditors_Velocity_Days</th>\n",
       "      <th>Inventory_Velocity_Days</th>\n",
       "      <th>Value_of_Output_to_Total_Assets</th>\n",
       "      <th>Value_of_Output_to_Gross_Block</th>\n",
       "    </tr>\n",
       "  </thead>\n",
       "  <tbody>\n",
       "    <tr>\n",
       "      <th>count</th>\n",
       "      <td>3586.00</td>\n",
       "      <td>3586.00</td>\n",
       "      <td>3586.00</td>\n",
       "      <td>3586.00</td>\n",
       "      <td>3586.00</td>\n",
       "      <td>3586.00</td>\n",
       "      <td>3586.00</td>\n",
       "      <td>3586.00</td>\n",
       "      <td>3586.00</td>\n",
       "      <td>3586.00</td>\n",
       "      <td>...</td>\n",
       "      <td>3585.00</td>\n",
       "      <td>3585.00</td>\n",
       "      <td>3585.00</td>\n",
       "      <td>3585.00</td>\n",
       "      <td>3585.00</td>\n",
       "      <td>3586.00</td>\n",
       "      <td>3586.00</td>\n",
       "      <td>3483.00</td>\n",
       "      <td>3586.00</td>\n",
       "      <td>3586.00</td>\n",
       "    </tr>\n",
       "    <tr>\n",
       "      <th>mean</th>\n",
       "      <td>1792.50</td>\n",
       "      <td>1792.50</td>\n",
       "      <td>725.05</td>\n",
       "      <td>62.97</td>\n",
       "      <td>649.75</td>\n",
       "      <td>2799.61</td>\n",
       "      <td>1994.82</td>\n",
       "      <td>594.18</td>\n",
       "      <td>410.81</td>\n",
       "      <td>1960.35</td>\n",
       "      <td>...</td>\n",
       "      <td>-51.16</td>\n",
       "      <td>-109.21</td>\n",
       "      <td>-311.57</td>\n",
       "      <td>-307.01</td>\n",
       "      <td>-365.06</td>\n",
       "      <td>603.89</td>\n",
       "      <td>2057.85</td>\n",
       "      <td>79.64</td>\n",
       "      <td>0.82</td>\n",
       "      <td>61.88</td>\n",
       "    </tr>\n",
       "    <tr>\n",
       "      <th>std</th>\n",
       "      <td>1035.33</td>\n",
       "      <td>1035.33</td>\n",
       "      <td>4769.68</td>\n",
       "      <td>778.76</td>\n",
       "      <td>4091.99</td>\n",
       "      <td>26975.14</td>\n",
       "      <td>23652.84</td>\n",
       "      <td>4871.55</td>\n",
       "      <td>6301.22</td>\n",
       "      <td>22577.57</td>\n",
       "      <td>...</td>\n",
       "      <td>1795.13</td>\n",
       "      <td>3057.64</td>\n",
       "      <td>10921.59</td>\n",
       "      <td>10676.15</td>\n",
       "      <td>12500.05</td>\n",
       "      <td>10636.76</td>\n",
       "      <td>54169.48</td>\n",
       "      <td>137.85</td>\n",
       "      <td>1.20</td>\n",
       "      <td>976.82</td>\n",
       "    </tr>\n",
       "    <tr>\n",
       "      <th>min</th>\n",
       "      <td>0.00</td>\n",
       "      <td>0.00</td>\n",
       "      <td>-8021.60</td>\n",
       "      <td>0.00</td>\n",
       "      <td>-7027.48</td>\n",
       "      <td>-1824.75</td>\n",
       "      <td>-0.72</td>\n",
       "      <td>-41.19</td>\n",
       "      <td>-13162.42</td>\n",
       "      <td>-0.91</td>\n",
       "      <td>...</td>\n",
       "      <td>-78870.45</td>\n",
       "      <td>-141600.00</td>\n",
       "      <td>-590500.00</td>\n",
       "      <td>-572000.00</td>\n",
       "      <td>-688600.00</td>\n",
       "      <td>0.00</td>\n",
       "      <td>0.00</td>\n",
       "      <td>-199.00</td>\n",
       "      <td>-0.33</td>\n",
       "      <td>-61.00</td>\n",
       "    </tr>\n",
       "    <tr>\n",
       "      <th>25%</th>\n",
       "      <td>896.25</td>\n",
       "      <td>896.25</td>\n",
       "      <td>3.98</td>\n",
       "      <td>3.75</td>\n",
       "      <td>3.89</td>\n",
       "      <td>7.60</td>\n",
       "      <td>0.03</td>\n",
       "      <td>0.57</td>\n",
       "      <td>0.94</td>\n",
       "      <td>4.00</td>\n",
       "      <td>...</td>\n",
       "      <td>0.00</td>\n",
       "      <td>0.00</td>\n",
       "      <td>0.00</td>\n",
       "      <td>0.00</td>\n",
       "      <td>0.00</td>\n",
       "      <td>8.00</td>\n",
       "      <td>8.00</td>\n",
       "      <td>0.00</td>\n",
       "      <td>0.07</td>\n",
       "      <td>0.27</td>\n",
       "    </tr>\n",
       "    <tr>\n",
       "      <th>50%</th>\n",
       "      <td>1792.50</td>\n",
       "      <td>1792.50</td>\n",
       "      <td>19.02</td>\n",
       "      <td>8.29</td>\n",
       "      <td>18.58</td>\n",
       "      <td>39.09</td>\n",
       "      <td>7.49</td>\n",
       "      <td>15.87</td>\n",
       "      <td>10.14</td>\n",
       "      <td>24.54</td>\n",
       "      <td>...</td>\n",
       "      <td>8.07</td>\n",
       "      <td>5.23</td>\n",
       "      <td>4.69</td>\n",
       "      <td>3.89</td>\n",
       "      <td>1.59</td>\n",
       "      <td>49.00</td>\n",
       "      <td>39.00</td>\n",
       "      <td>35.00</td>\n",
       "      <td>0.48</td>\n",
       "      <td>1.53</td>\n",
       "    </tr>\n",
       "    <tr>\n",
       "      <th>75%</th>\n",
       "      <td>2688.75</td>\n",
       "      <td>2688.75</td>\n",
       "      <td>123.80</td>\n",
       "      <td>19.52</td>\n",
       "      <td>117.30</td>\n",
       "      <td>226.61</td>\n",
       "      <td>72.35</td>\n",
       "      <td>131.90</td>\n",
       "      <td>61.17</td>\n",
       "      <td>135.28</td>\n",
       "      <td>...</td>\n",
       "      <td>18.99</td>\n",
       "      <td>14.29</td>\n",
       "      <td>14.11</td>\n",
       "      <td>11.39</td>\n",
       "      <td>7.41</td>\n",
       "      <td>106.00</td>\n",
       "      <td>89.00</td>\n",
       "      <td>96.00</td>\n",
       "      <td>1.16</td>\n",
       "      <td>4.91</td>\n",
       "    </tr>\n",
       "    <tr>\n",
       "      <th>max</th>\n",
       "      <td>3585.00</td>\n",
       "      <td>3585.00</td>\n",
       "      <td>111729.10</td>\n",
       "      <td>42263.46</td>\n",
       "      <td>81657.35</td>\n",
       "      <td>714001.25</td>\n",
       "      <td>652823.81</td>\n",
       "      <td>128477.59</td>\n",
       "      <td>223257.56</td>\n",
       "      <td>721166.00</td>\n",
       "      <td>...</td>\n",
       "      <td>19233.33</td>\n",
       "      <td>19195.70</td>\n",
       "      <td>15640.00</td>\n",
       "      <td>15640.00</td>\n",
       "      <td>15266.67</td>\n",
       "      <td>514721.00</td>\n",
       "      <td>2034145.00</td>\n",
       "      <td>996.00</td>\n",
       "      <td>17.63</td>\n",
       "      <td>43404.00</td>\n",
       "    </tr>\n",
       "  </tbody>\n",
       "</table>\n",
       "<p>8 rows × 67 columns</p>\n",
       "</div>"
      ],
      "text/plain": [
       "       Co_Code  Co_Name  Networth_Next_Year  Equity_Paid_Up  Networth  \\\n",
       "count  3586.00  3586.00             3586.00         3586.00   3586.00   \n",
       "mean   1792.50  1792.50              725.05           62.97    649.75   \n",
       "std    1035.33  1035.33             4769.68          778.76   4091.99   \n",
       "min       0.00     0.00            -8021.60            0.00  -7027.48   \n",
       "25%     896.25   896.25                3.98            3.75      3.89   \n",
       "50%    1792.50  1792.50               19.02            8.29     18.58   \n",
       "75%    2688.75  2688.75              123.80           19.52    117.30   \n",
       "max    3585.00  3585.00           111729.10        42263.46  81657.35   \n",
       "\n",
       "       Capital_Employed  Total_Debt  Gross_Block_  Net_Working_Capital_  \\\n",
       "count           3586.00     3586.00       3586.00               3586.00   \n",
       "mean            2799.61     1994.82        594.18                410.81   \n",
       "std            26975.14    23652.84       4871.55               6301.22   \n",
       "min            -1824.75       -0.72        -41.19             -13162.42   \n",
       "25%                7.60        0.03          0.57                  0.94   \n",
       "50%               39.09        7.49         15.87                 10.14   \n",
       "75%              226.61       72.35        131.90                 61.17   \n",
       "max           714001.25   652823.81     128477.59             223257.56   \n",
       "\n",
       "       Current_Assets_  ...  PBIDTM_perc[Latest]  PBITM_perc[Latest]  \\\n",
       "count          3586.00  ...              3585.00             3585.00   \n",
       "mean           1960.35  ...               -51.16             -109.21   \n",
       "std           22577.57  ...              1795.13             3057.64   \n",
       "min              -0.91  ...            -78870.45          -141600.00   \n",
       "25%               4.00  ...                 0.00                0.00   \n",
       "50%              24.54  ...                 8.07                5.23   \n",
       "75%             135.28  ...                18.99               14.29   \n",
       "max          721166.00  ...             19233.33            19195.70   \n",
       "\n",
       "       PBDTM_perc[Latest]  CPM_perc[Latest]  APATM_perc[Latest]  \\\n",
       "count             3585.00           3585.00             3585.00   \n",
       "mean              -311.57           -307.01             -365.06   \n",
       "std              10921.59          10676.15            12500.05   \n",
       "min            -590500.00        -572000.00          -688600.00   \n",
       "25%                  0.00              0.00                0.00   \n",
       "50%                  4.69              3.89                1.59   \n",
       "75%                 14.11             11.39                7.41   \n",
       "max              15640.00          15640.00            15266.67   \n",
       "\n",
       "       Debtors_Velocity_Days  Creditors_Velocity_Days  \\\n",
       "count                3586.00                  3586.00   \n",
       "mean                  603.89                  2057.85   \n",
       "std                 10636.76                 54169.48   \n",
       "min                     0.00                     0.00   \n",
       "25%                     8.00                     8.00   \n",
       "50%                    49.00                    39.00   \n",
       "75%                   106.00                    89.00   \n",
       "max                514721.00               2034145.00   \n",
       "\n",
       "       Inventory_Velocity_Days  Value_of_Output_to_Total_Assets  \\\n",
       "count                  3483.00                          3586.00   \n",
       "mean                     79.64                             0.82   \n",
       "std                     137.85                             1.20   \n",
       "min                    -199.00                            -0.33   \n",
       "25%                       0.00                             0.07   \n",
       "50%                      35.00                             0.48   \n",
       "75%                      96.00                             1.16   \n",
       "max                     996.00                            17.63   \n",
       "\n",
       "       Value_of_Output_to_Gross_Block  \n",
       "count                         3586.00  \n",
       "mean                            61.88  \n",
       "std                            976.82  \n",
       "min                            -61.00  \n",
       "25%                              0.27  \n",
       "50%                              1.53  \n",
       "75%                              4.91  \n",
       "max                          43404.00  \n",
       "\n",
       "[8 rows x 67 columns]"
      ]
     },
     "execution_count": 10,
     "metadata": {},
     "output_type": "execute_result"
    }
   ],
   "source": [
    "pd.options.display.float_format = '{:.2f}'.format   \n",
    "\n",
    "Company.describe()"
   ]
  },
  {
   "cell_type": "markdown",
   "metadata": {},
   "source": [
    "# Creating a binary target variable using 'Networth_Next_Year'\n"
   ]
  },
  {
   "cell_type": "code",
   "execution_count": 11,
   "metadata": {},
   "outputs": [],
   "source": [
    "Company['default']=np.where(Company['Networth_Next_Year']<=0,1,0)"
   ]
  },
  {
   "cell_type": "markdown",
   "metadata": {},
   "source": [
    "# Checking top 10 rows"
   ]
  },
  {
   "cell_type": "code",
   "execution_count": 12,
   "metadata": {
    "scrolled": true
   },
   "outputs": [
    {
     "data": {
      "text/html": [
       "<div>\n",
       "<style scoped>\n",
       "    .dataframe tbody tr th:only-of-type {\n",
       "        vertical-align: middle;\n",
       "    }\n",
       "\n",
       "    .dataframe tbody tr th {\n",
       "        vertical-align: top;\n",
       "    }\n",
       "\n",
       "    .dataframe thead th {\n",
       "        text-align: right;\n",
       "    }\n",
       "</style>\n",
       "<table border=\"1\" class=\"dataframe\">\n",
       "  <thead>\n",
       "    <tr style=\"text-align: right;\">\n",
       "      <th></th>\n",
       "      <th>default</th>\n",
       "      <th>Networth_Next_Year</th>\n",
       "    </tr>\n",
       "  </thead>\n",
       "  <tbody>\n",
       "    <tr>\n",
       "      <th>0</th>\n",
       "      <td>1</td>\n",
       "      <td>-8021.60</td>\n",
       "    </tr>\n",
       "    <tr>\n",
       "      <th>1</th>\n",
       "      <td>1</td>\n",
       "      <td>-3986.19</td>\n",
       "    </tr>\n",
       "    <tr>\n",
       "      <th>2</th>\n",
       "      <td>1</td>\n",
       "      <td>-3192.58</td>\n",
       "    </tr>\n",
       "    <tr>\n",
       "      <th>3</th>\n",
       "      <td>1</td>\n",
       "      <td>-3054.51</td>\n",
       "    </tr>\n",
       "    <tr>\n",
       "      <th>4</th>\n",
       "      <td>1</td>\n",
       "      <td>-2967.36</td>\n",
       "    </tr>\n",
       "    <tr>\n",
       "      <th>5</th>\n",
       "      <td>1</td>\n",
       "      <td>-2519.40</td>\n",
       "    </tr>\n",
       "    <tr>\n",
       "      <th>6</th>\n",
       "      <td>1</td>\n",
       "      <td>-2125.05</td>\n",
       "    </tr>\n",
       "    <tr>\n",
       "      <th>7</th>\n",
       "      <td>1</td>\n",
       "      <td>-2100.56</td>\n",
       "    </tr>\n",
       "    <tr>\n",
       "      <th>8</th>\n",
       "      <td>1</td>\n",
       "      <td>-1695.75</td>\n",
       "    </tr>\n",
       "    <tr>\n",
       "      <th>9</th>\n",
       "      <td>1</td>\n",
       "      <td>-1677.18</td>\n",
       "    </tr>\n",
       "  </tbody>\n",
       "</table>\n",
       "</div>"
      ],
      "text/plain": [
       "   default  Networth_Next_Year\n",
       "0        1            -8021.60\n",
       "1        1            -3986.19\n",
       "2        1            -3192.58\n",
       "3        1            -3054.51\n",
       "4        1            -2967.36\n",
       "5        1            -2519.40\n",
       "6        1            -2125.05\n",
       "7        1            -2100.56\n",
       "8        1            -1695.75\n",
       "9        1            -1677.18"
      ]
     },
     "execution_count": 12,
     "metadata": {},
     "output_type": "execute_result"
    }
   ],
   "source": [
    "Company[['default','Networth_Next_Year']].head(10)"
   ]
  },
  {
   "cell_type": "markdown",
   "metadata": {},
   "source": [
    "# What does variable 'default' look like"
   ]
  },
  {
   "cell_type": "code",
   "execution_count": 13,
   "metadata": {},
   "outputs": [
    {
     "data": {
      "text/plain": [
       "0    3198\n",
       "1     388\n",
       "Name: default, dtype: int64"
      ]
     },
     "execution_count": 13,
     "metadata": {},
     "output_type": "execute_result"
    }
   ],
   "source": [
    "Company['default'].value_counts()"
   ]
  },
  {
   "cell_type": "markdown",
   "metadata": {},
   "source": [
    "# Checking proportion of default"
   ]
  },
  {
   "cell_type": "code",
   "execution_count": 14,
   "metadata": {},
   "outputs": [
    {
     "data": {
      "text/plain": [
       "0   0.89\n",
       "1   0.11\n",
       "Name: default, dtype: float64"
      ]
     },
     "execution_count": 14,
     "metadata": {},
     "output_type": "execute_result"
    }
   ],
   "source": [
    "Company['default'].value_counts(normalize = True)"
   ]
  },
  {
   "cell_type": "markdown",
   "metadata": {},
   "source": [
    "# Lets check for missing values in the dataset"
   ]
  },
  {
   "cell_type": "code",
   "execution_count": 15,
   "metadata": {},
   "outputs": [],
   "source": [
    "# Checking for Missing values"
   ]
  },
  {
   "cell_type": "code",
   "execution_count": 16,
   "metadata": {},
   "outputs": [
    {
     "data": {
      "text/plain": [
       "Co_Code                              0\n",
       "Co_Name                              0\n",
       "Networth_Next_Year                   0\n",
       "Equity_Paid_Up                       0\n",
       "Networth                             0\n",
       "                                  ... \n",
       "Creditors_Velocity_Days              0\n",
       "Inventory_Velocity_Days            103\n",
       "Value_of_Output_to_Total_Assets      0\n",
       "Value_of_Output_to_Gross_Block       0\n",
       "default                              0\n",
       "Length: 68, dtype: int64"
      ]
     },
     "execution_count": 16,
     "metadata": {},
     "output_type": "execute_result"
    }
   ],
   "source": [
    "Company.isnull().sum()"
   ]
  },
  {
   "cell_type": "code",
   "execution_count": 17,
   "metadata": {},
   "outputs": [
    {
     "data": {
      "text/plain": [
       "243848"
      ]
     },
     "execution_count": 17,
     "metadata": {},
     "output_type": "execute_result"
    }
   ],
   "source": [
    "Company.size"
   ]
  },
  {
   "cell_type": "code",
   "execution_count": 18,
   "metadata": {},
   "outputs": [
    {
     "data": {
      "text/plain": [
       "118"
      ]
     },
     "execution_count": 18,
     "metadata": {},
     "output_type": "execute_result"
    }
   ],
   "source": [
    "Company.isnull().sum().sum()"
   ]
  },
  {
   "cell_type": "code",
   "execution_count": 19,
   "metadata": {},
   "outputs": [],
   "source": [
    "Company_X = Company.drop('default', axis = 1)\n",
    "Company_Y = Company['default']"
   ]
  },
  {
   "cell_type": "code",
   "execution_count": 20,
   "metadata": {},
   "outputs": [
    {
     "data": {
      "text/html": [
       "<div>\n",
       "<style scoped>\n",
       "    .dataframe tbody tr th:only-of-type {\n",
       "        vertical-align: middle;\n",
       "    }\n",
       "\n",
       "    .dataframe tbody tr th {\n",
       "        vertical-align: top;\n",
       "    }\n",
       "\n",
       "    .dataframe thead th {\n",
       "        text-align: right;\n",
       "    }\n",
       "</style>\n",
       "<table border=\"1\" class=\"dataframe\">\n",
       "  <thead>\n",
       "    <tr style=\"text-align: right;\">\n",
       "      <th></th>\n",
       "      <th>Co_Code</th>\n",
       "      <th>Co_Name</th>\n",
       "      <th>Networth_Next_Year</th>\n",
       "      <th>Equity_Paid_Up</th>\n",
       "      <th>Networth</th>\n",
       "      <th>Capital_Employed</th>\n",
       "      <th>Total_Debt</th>\n",
       "      <th>Gross_Block_</th>\n",
       "      <th>Net_Working_Capital_</th>\n",
       "      <th>Current_Assets_</th>\n",
       "      <th>...</th>\n",
       "      <th>PBIDTM_perc[Latest]</th>\n",
       "      <th>PBITM_perc[Latest]</th>\n",
       "      <th>PBDTM_perc[Latest]</th>\n",
       "      <th>CPM_perc[Latest]</th>\n",
       "      <th>APATM_perc[Latest]</th>\n",
       "      <th>Debtors_Velocity_Days</th>\n",
       "      <th>Creditors_Velocity_Days</th>\n",
       "      <th>Inventory_Velocity_Days</th>\n",
       "      <th>Value_of_Output_to_Total_Assets</th>\n",
       "      <th>Value_of_Output_to_Gross_Block</th>\n",
       "    </tr>\n",
       "  </thead>\n",
       "  <tbody>\n",
       "    <tr>\n",
       "      <th>0</th>\n",
       "      <td>459</td>\n",
       "      <td>1226</td>\n",
       "      <td>-8021.60</td>\n",
       "      <td>419.36</td>\n",
       "      <td>-7027.48</td>\n",
       "      <td>-1007.24</td>\n",
       "      <td>5936.03</td>\n",
       "      <td>474.30</td>\n",
       "      <td>-1076.34</td>\n",
       "      <td>40.50</td>\n",
       "      <td>...</td>\n",
       "      <td>0.00</td>\n",
       "      <td>0.00</td>\n",
       "      <td>0.00</td>\n",
       "      <td>0.00</td>\n",
       "      <td>0.00</td>\n",
       "      <td>0</td>\n",
       "      <td>0</td>\n",
       "      <td>45.00</td>\n",
       "      <td>0.00</td>\n",
       "      <td>0.00</td>\n",
       "    </tr>\n",
       "    <tr>\n",
       "      <th>1</th>\n",
       "      <td>704</td>\n",
       "      <td>3214</td>\n",
       "      <td>-3986.19</td>\n",
       "      <td>1954.93</td>\n",
       "      <td>-2968.08</td>\n",
       "      <td>4458.20</td>\n",
       "      <td>7410.18</td>\n",
       "      <td>9070.86</td>\n",
       "      <td>-1098.88</td>\n",
       "      <td>486.86</td>\n",
       "      <td>...</td>\n",
       "      <td>-10.30</td>\n",
       "      <td>-39.74</td>\n",
       "      <td>-57.74</td>\n",
       "      <td>-57.74</td>\n",
       "      <td>-87.18</td>\n",
       "      <td>29</td>\n",
       "      <td>101</td>\n",
       "      <td>2.00</td>\n",
       "      <td>0.31</td>\n",
       "      <td>0.24</td>\n",
       "    </tr>\n",
       "    <tr>\n",
       "      <th>2</th>\n",
       "      <td>333</td>\n",
       "      <td>21</td>\n",
       "      <td>-3192.58</td>\n",
       "      <td>53.84</td>\n",
       "      <td>506.86</td>\n",
       "      <td>7714.68</td>\n",
       "      <td>6944.54</td>\n",
       "      <td>1281.54</td>\n",
       "      <td>4496.25</td>\n",
       "      <td>9097.64</td>\n",
       "      <td>...</td>\n",
       "      <td>-5279.14</td>\n",
       "      <td>-5516.98</td>\n",
       "      <td>-7780.25</td>\n",
       "      <td>-7723.67</td>\n",
       "      <td>-7961.51</td>\n",
       "      <td>97</td>\n",
       "      <td>558</td>\n",
       "      <td>0.00</td>\n",
       "      <td>-0.03</td>\n",
       "      <td>-0.26</td>\n",
       "    </tr>\n",
       "    <tr>\n",
       "      <th>3</th>\n",
       "      <td>963</td>\n",
       "      <td>1001</td>\n",
       "      <td>-3054.51</td>\n",
       "      <td>157.30</td>\n",
       "      <td>-623.49</td>\n",
       "      <td>2353.88</td>\n",
       "      <td>2326.05</td>\n",
       "      <td>1033.69</td>\n",
       "      <td>-2612.42</td>\n",
       "      <td>1034.12</td>\n",
       "      <td>...</td>\n",
       "      <td>-3.33</td>\n",
       "      <td>-7.21</td>\n",
       "      <td>-48.13</td>\n",
       "      <td>-47.70</td>\n",
       "      <td>-51.58</td>\n",
       "      <td>93</td>\n",
       "      <td>63</td>\n",
       "      <td>2.00</td>\n",
       "      <td>0.24</td>\n",
       "      <td>1.90</td>\n",
       "    </tr>\n",
       "    <tr>\n",
       "      <th>4</th>\n",
       "      <td>884</td>\n",
       "      <td>452</td>\n",
       "      <td>-2967.36</td>\n",
       "      <td>50.30</td>\n",
       "      <td>-1070.83</td>\n",
       "      <td>4675.33</td>\n",
       "      <td>5740.90</td>\n",
       "      <td>1084.20</td>\n",
       "      <td>1836.23</td>\n",
       "      <td>4685.81</td>\n",
       "      <td>...</td>\n",
       "      <td>-295.55</td>\n",
       "      <td>-400.55</td>\n",
       "      <td>-845.88</td>\n",
       "      <td>379.79</td>\n",
       "      <td>274.79</td>\n",
       "      <td>3887</td>\n",
       "      <td>346</td>\n",
       "      <td>0.00</td>\n",
       "      <td>0.01</td>\n",
       "      <td>0.05</td>\n",
       "    </tr>\n",
       "    <tr>\n",
       "      <th>...</th>\n",
       "      <td>...</td>\n",
       "      <td>...</td>\n",
       "      <td>...</td>\n",
       "      <td>...</td>\n",
       "      <td>...</td>\n",
       "      <td>...</td>\n",
       "      <td>...</td>\n",
       "      <td>...</td>\n",
       "      <td>...</td>\n",
       "      <td>...</td>\n",
       "      <td>...</td>\n",
       "      <td>...</td>\n",
       "      <td>...</td>\n",
       "      <td>...</td>\n",
       "      <td>...</td>\n",
       "      <td>...</td>\n",
       "      <td>...</td>\n",
       "      <td>...</td>\n",
       "      <td>...</td>\n",
       "      <td>...</td>\n",
       "      <td>...</td>\n",
       "    </tr>\n",
       "    <tr>\n",
       "      <th>3581</th>\n",
       "      <td>2440</td>\n",
       "      <td>1161</td>\n",
       "      <td>72677.77</td>\n",
       "      <td>501.30</td>\n",
       "      <td>62009.42</td>\n",
       "      <td>590576.00</td>\n",
       "      <td>496009.19</td>\n",
       "      <td>8463.30</td>\n",
       "      <td>0.00</td>\n",
       "      <td>444633.50</td>\n",
       "      <td>...</td>\n",
       "      <td>0.00</td>\n",
       "      <td>0.00</td>\n",
       "      <td>0.00</td>\n",
       "      <td>0.00</td>\n",
       "      <td>0.00</td>\n",
       "      <td>0</td>\n",
       "      <td>0</td>\n",
       "      <td>nan</td>\n",
       "      <td>0.60</td>\n",
       "      <td>7.76</td>\n",
       "    </tr>\n",
       "    <tr>\n",
       "      <th>3582</th>\n",
       "      <td>2456</td>\n",
       "      <td>3428</td>\n",
       "      <td>79162.19</td>\n",
       "      <td>296.50</td>\n",
       "      <td>34057.87</td>\n",
       "      <td>71906.06</td>\n",
       "      <td>37643.79</td>\n",
       "      <td>29848.44</td>\n",
       "      <td>2503.86</td>\n",
       "      <td>11554.45</td>\n",
       "      <td>...</td>\n",
       "      <td>39.92</td>\n",
       "      <td>32.17</td>\n",
       "      <td>29.81</td>\n",
       "      <td>30.52</td>\n",
       "      <td>22.77</td>\n",
       "      <td>13</td>\n",
       "      <td>53</td>\n",
       "      <td>77.00</td>\n",
       "      <td>0.29</td>\n",
       "      <td>1.00</td>\n",
       "    </tr>\n",
       "    <tr>\n",
       "      <th>3583</th>\n",
       "      <td>58</td>\n",
       "      <td>1260</td>\n",
       "      <td>88134.31</td>\n",
       "      <td>2427.95</td>\n",
       "      <td>67969.97</td>\n",
       "      <td>140686.75</td>\n",
       "      <td>55245.01</td>\n",
       "      <td>121643.45</td>\n",
       "      <td>6376.84</td>\n",
       "      <td>89609.82</td>\n",
       "      <td>...</td>\n",
       "      <td>8.09</td>\n",
       "      <td>6.69</td>\n",
       "      <td>7.31</td>\n",
       "      <td>5.69</td>\n",
       "      <td>4.29</td>\n",
       "      <td>7</td>\n",
       "      <td>30</td>\n",
       "      <td>48.00</td>\n",
       "      <td>1.42</td>\n",
       "      <td>3.24</td>\n",
       "    </tr>\n",
       "    <tr>\n",
       "      <th>3584</th>\n",
       "      <td>57</td>\n",
       "      <td>2035</td>\n",
       "      <td>91293.70</td>\n",
       "      <td>8245.46</td>\n",
       "      <td>81657.35</td>\n",
       "      <td>173099.14</td>\n",
       "      <td>85995.34</td>\n",
       "      <td>128477.59</td>\n",
       "      <td>11449.79</td>\n",
       "      <td>42353.59</td>\n",
       "      <td>...</td>\n",
       "      <td>28.12</td>\n",
       "      <td>20.55</td>\n",
       "      <td>23.39</td>\n",
       "      <td>19.55</td>\n",
       "      <td>11.99</td>\n",
       "      <td>32</td>\n",
       "      <td>69</td>\n",
       "      <td>42.00</td>\n",
       "      <td>0.36</td>\n",
       "      <td>0.68</td>\n",
       "    </tr>\n",
       "    <tr>\n",
       "      <th>3585</th>\n",
       "      <td>378</td>\n",
       "      <td>454</td>\n",
       "      <td>111729.10</td>\n",
       "      <td>1998.70</td>\n",
       "      <td>78270.80</td>\n",
       "      <td>104241.00</td>\n",
       "      <td>21569.70</td>\n",
       "      <td>100084.90</td>\n",
       "      <td>-12145.30</td>\n",
       "      <td>11947.10</td>\n",
       "      <td>...</td>\n",
       "      <td>42.47</td>\n",
       "      <td>22.88</td>\n",
       "      <td>34.04</td>\n",
       "      <td>25.97</td>\n",
       "      <td>6.37</td>\n",
       "      <td>18</td>\n",
       "      <td>74</td>\n",
       "      <td>0.00</td>\n",
       "      <td>0.42</td>\n",
       "      <td>0.49</td>\n",
       "    </tr>\n",
       "  </tbody>\n",
       "</table>\n",
       "<p>3586 rows × 67 columns</p>\n",
       "</div>"
      ],
      "text/plain": [
       "      Co_Code  Co_Name  Networth_Next_Year  Equity_Paid_Up  Networth  \\\n",
       "0         459     1226            -8021.60          419.36  -7027.48   \n",
       "1         704     3214            -3986.19         1954.93  -2968.08   \n",
       "2         333       21            -3192.58           53.84    506.86   \n",
       "3         963     1001            -3054.51          157.30   -623.49   \n",
       "4         884      452            -2967.36           50.30  -1070.83   \n",
       "...       ...      ...                 ...             ...       ...   \n",
       "3581     2440     1161            72677.77          501.30  62009.42   \n",
       "3582     2456     3428            79162.19          296.50  34057.87   \n",
       "3583       58     1260            88134.31         2427.95  67969.97   \n",
       "3584       57     2035            91293.70         8245.46  81657.35   \n",
       "3585      378      454           111729.10         1998.70  78270.80   \n",
       "\n",
       "      Capital_Employed  Total_Debt  Gross_Block_  Net_Working_Capital_  \\\n",
       "0             -1007.24     5936.03        474.30              -1076.34   \n",
       "1              4458.20     7410.18       9070.86              -1098.88   \n",
       "2              7714.68     6944.54       1281.54               4496.25   \n",
       "3              2353.88     2326.05       1033.69              -2612.42   \n",
       "4              4675.33     5740.90       1084.20               1836.23   \n",
       "...                ...         ...           ...                   ...   \n",
       "3581         590576.00   496009.19       8463.30                  0.00   \n",
       "3582          71906.06    37643.79      29848.44               2503.86   \n",
       "3583         140686.75    55245.01     121643.45               6376.84   \n",
       "3584         173099.14    85995.34     128477.59              11449.79   \n",
       "3585         104241.00    21569.70     100084.90             -12145.30   \n",
       "\n",
       "      Current_Assets_  ...  PBIDTM_perc[Latest]  PBITM_perc[Latest]  \\\n",
       "0               40.50  ...                 0.00                0.00   \n",
       "1              486.86  ...               -10.30              -39.74   \n",
       "2             9097.64  ...             -5279.14            -5516.98   \n",
       "3             1034.12  ...                -3.33               -7.21   \n",
       "4             4685.81  ...              -295.55             -400.55   \n",
       "...               ...  ...                  ...                 ...   \n",
       "3581        444633.50  ...                 0.00                0.00   \n",
       "3582         11554.45  ...                39.92               32.17   \n",
       "3583         89609.82  ...                 8.09                6.69   \n",
       "3584         42353.59  ...                28.12               20.55   \n",
       "3585         11947.10  ...                42.47               22.88   \n",
       "\n",
       "      PBDTM_perc[Latest]  CPM_perc[Latest]  APATM_perc[Latest]  \\\n",
       "0                   0.00              0.00                0.00   \n",
       "1                 -57.74            -57.74              -87.18   \n",
       "2               -7780.25          -7723.67            -7961.51   \n",
       "3                 -48.13            -47.70              -51.58   \n",
       "4                -845.88            379.79              274.79   \n",
       "...                  ...               ...                 ...   \n",
       "3581                0.00              0.00                0.00   \n",
       "3582               29.81             30.52               22.77   \n",
       "3583                7.31              5.69                4.29   \n",
       "3584               23.39             19.55               11.99   \n",
       "3585               34.04             25.97                6.37   \n",
       "\n",
       "      Debtors_Velocity_Days  Creditors_Velocity_Days  Inventory_Velocity_Days  \\\n",
       "0                         0                        0                    45.00   \n",
       "1                        29                      101                     2.00   \n",
       "2                        97                      558                     0.00   \n",
       "3                        93                       63                     2.00   \n",
       "4                      3887                      346                     0.00   \n",
       "...                     ...                      ...                      ...   \n",
       "3581                      0                        0                      nan   \n",
       "3582                     13                       53                    77.00   \n",
       "3583                      7                       30                    48.00   \n",
       "3584                     32                       69                    42.00   \n",
       "3585                     18                       74                     0.00   \n",
       "\n",
       "      Value_of_Output_to_Total_Assets  Value_of_Output_to_Gross_Block  \n",
       "0                                0.00                            0.00  \n",
       "1                                0.31                            0.24  \n",
       "2                               -0.03                           -0.26  \n",
       "3                                0.24                            1.90  \n",
       "4                                0.01                            0.05  \n",
       "...                               ...                             ...  \n",
       "3581                             0.60                            7.76  \n",
       "3582                             0.29                            1.00  \n",
       "3583                             1.42                            3.24  \n",
       "3584                             0.36                            0.68  \n",
       "3585                             0.42                            0.49  \n",
       "\n",
       "[3586 rows x 67 columns]"
      ]
     },
     "execution_count": 20,
     "metadata": {},
     "output_type": "execute_result"
    }
   ],
   "source": [
    "Company_X"
   ]
  },
  {
   "cell_type": "markdown",
   "metadata": {},
   "source": [
    "# Let's check the number of outliers per column"
   ]
  },
  {
   "cell_type": "code",
   "execution_count": 21,
   "metadata": {},
   "outputs": [],
   "source": [
    "Q1 = Company_X.quantile(0.25)\n",
    "Q3 = Company_X.quantile(0.75)\n",
    "IQR = Q3 - Q1\n",
    "UL = Q3 + 1.5*IQR\n",
    "LL = Q1 - 1.5*IQR"
   ]
  },
  {
   "cell_type": "code",
   "execution_count": 22,
   "metadata": {},
   "outputs": [
    {
     "data": {
      "text/plain": [
       "Co_Code                              0\n",
       "Co_Name                              0\n",
       "Networth_Next_Year                 676\n",
       "Equity_Paid_Up                     448\n",
       "Networth                           650\n",
       "                                  ... \n",
       "Debtors_Velocity_Days              398\n",
       "Creditors_Velocity_Days            391\n",
       "Inventory_Velocity_Days            262\n",
       "Value_of_Output_to_Total_Assets    150\n",
       "Value_of_Output_to_Gross_Block     481\n",
       "Length: 67, dtype: int64"
      ]
     },
     "execution_count": 22,
     "metadata": {},
     "output_type": "execute_result"
    }
   ],
   "source": [
    "((Company_X > UL) | (Company_X < LL)).sum()"
   ]
  },
  {
   "cell_type": "code",
   "execution_count": 23,
   "metadata": {},
   "outputs": [],
   "source": [
    "Company_X[((Company_X > UL) | (Company_X < LL))]= np.nan"
   ]
  },
  {
   "cell_type": "code",
   "execution_count": 24,
   "metadata": {},
   "outputs": [
    {
     "data": {
      "text/plain": [
       "Co_Code                              0\n",
       "Co_Name                              0\n",
       "Networth_Next_Year                 676\n",
       "Equity_Paid_Up                     448\n",
       "Networth                           650\n",
       "                                  ... \n",
       "Debtors_Velocity_Days              398\n",
       "Creditors_Velocity_Days            391\n",
       "Inventory_Velocity_Days            365\n",
       "Value_of_Output_to_Total_Assets    150\n",
       "Value_of_Output_to_Gross_Block     481\n",
       "Length: 67, dtype: int64"
      ]
     },
     "execution_count": 24,
     "metadata": {},
     "output_type": "execute_result"
    }
   ],
   "source": [
    "Company_X.isnull().sum()"
   ]
  },
  {
   "cell_type": "code",
   "execution_count": 25,
   "metadata": {},
   "outputs": [
    {
     "data": {
      "text/plain": [
       "42149"
      ]
     },
     "execution_count": 25,
     "metadata": {},
     "output_type": "execute_result"
    }
   ],
   "source": [
    "Company_X.isnull().sum().sum()"
   ]
  },
  {
   "cell_type": "code",
   "execution_count": 26,
   "metadata": {},
   "outputs": [
    {
     "data": {
      "text/plain": [
       "(3586, 67)"
      ]
     },
     "execution_count": 26,
     "metadata": {},
     "output_type": "execute_result"
    }
   ],
   "source": [
    "Company_X.shape"
   ]
  },
  {
   "cell_type": "code",
   "execution_count": 27,
   "metadata": {},
   "outputs": [],
   "source": [
    "Company_sub1 = pd.concat([Company_X, Company_Y], axis =1 )"
   ]
  },
  {
   "cell_type": "markdown",
   "metadata": {},
   "source": [
    "# Let's visually inspect the missing values in our data"
   ]
  },
  {
   "cell_type": "code",
   "execution_count": 28,
   "metadata": {},
   "outputs": [
    {
     "data": {
      "image/png": "[encoded data removed]",
      "text/plain": [
       "<Figure size 1080x864 with 1 Axes>"
      ]
     },
     "metadata": {
      "needs_background": "light"
     },
     "output_type": "display_data"
    }
   ],
   "source": [
    "plt.figure(figsize = (15,12))\n",
    "sns.heatmap(Company_sub1.isnull(), cbar = False, cmap = 'coolwarm', yticklabels = False)\n",
    "plt.show()"
   ]
  },
  {
   "cell_type": "markdown",
   "metadata": {},
   "source": [
    "# We should inspect total missing values by each row."
   ]
  },
  {
   "cell_type": "code",
   "execution_count": 29,
   "metadata": {},
   "outputs": [
    {
     "data": {
      "text/plain": [
       "0       20\n",
       "1       35\n",
       "2       44\n",
       "3       37\n",
       "4       36\n",
       "        ..\n",
       "3581    31\n",
       "3582    37\n",
       "3583    35\n",
       "3584    31\n",
       "3585    37\n",
       "Length: 3586, dtype: int64"
      ]
     },
     "execution_count": 29,
     "metadata": {},
     "output_type": "execute_result"
    }
   ],
   "source": [
    "Company_sub1.isnull().sum(axis = 1)"
   ]
  },
  {
   "cell_type": "code",
   "execution_count": 30,
   "metadata": {},
   "outputs": [],
   "source": [
    "Company_sub1_temp = Company_sub1[Company_sub1.isnull().sum(axis = 1) <= 5]"
   ]
  },
  {
   "cell_type": "code",
   "execution_count": 31,
   "metadata": {},
   "outputs": [
    {
     "data": {
      "text/plain": [
       "(1201, 68)"
      ]
     },
     "execution_count": 31,
     "metadata": {},
     "output_type": "execute_result"
    }
   ],
   "source": [
    "Company_sub1_temp.shape"
   ]
  },
  {
   "cell_type": "code",
   "execution_count": 32,
   "metadata": {},
   "outputs": [
    {
     "data": {
      "text/plain": [
       "0    1083\n",
       "1     118\n",
       "Name: default, dtype: int64"
      ]
     },
     "execution_count": 32,
     "metadata": {},
     "output_type": "execute_result"
    }
   ],
   "source": [
    "Company_sub1_temp['default'].value_counts()"
   ]
  },
  {
   "cell_type": "code",
   "execution_count": 33,
   "metadata": {},
   "outputs": [
    {
     "data": {
      "text/plain": [
       "0    3198\n",
       "1     388\n",
       "Name: default, dtype: int64"
      ]
     },
     "execution_count": 33,
     "metadata": {},
     "output_type": "execute_result"
    }
   ],
   "source": [
    "Company_sub1['default'].value_counts()"
   ]
  },
  {
   "cell_type": "code",
   "execution_count": 34,
   "metadata": {},
   "outputs": [
    {
     "data": {
      "text/plain": [
       "0.24484536082474226"
      ]
     },
     "execution_count": 34,
     "metadata": {},
     "output_type": "execute_result"
    }
   ],
   "source": [
    "95/388"
   ]
  },
  {
   "cell_type": "markdown",
   "metadata": {},
   "source": [
    "# Dropping columns with more than 30% missing values"
   ]
  },
  {
   "cell_type": "code",
   "execution_count": 35,
   "metadata": {},
   "outputs": [],
   "source": [
    "from pandas import DataFrame\n",
    "from IPython.display import HTML\n",
    "pd.options.display.max_rows = 4000"
   ]
  },
  {
   "cell_type": "code",
   "execution_count": 36,
   "metadata": {},
   "outputs": [
    {
     "data": {
      "text/plain": [
       "ROG-Revenue_expenses_in_forex_perc    0.45\n",
       "ROG-Revenue_earnings_in_forex_perc    0.37\n",
       "Cash_Flow_From_Financing_Activities   0.28\n",
       "PAT                                   0.27\n",
       "Adjusted_PAT                          0.27\n",
       "PBT                                   0.26\n",
       "APATM_perc[Latest]                    0.26\n",
       "Cash_Flow_From_Investing_Activities   0.24\n",
       "ROG-Gross_Block_perc                  0.23\n",
       "CP                                    0.23\n",
       "PBDT                                  0.23\n",
       "Cash_Flow_From_Operating_Activities   0.22\n",
       "ROG-Net_Worth_perc                    0.21\n",
       "Revenue_earnings_in_forex             0.21\n",
       "Interest_Cover_Ratio[Latest]          0.20\n",
       "CPM_perc[Latest]                      0.20\n",
       "PBIT                                  0.20\n",
       "PBITM_perc[Latest]                    0.20\n",
       "PBDTM_perc[Latest]                    0.19\n",
       "Capital_expenses_in_forex             0.19\n",
       "Revenue_expenses_in_forex             0.19\n",
       "Networth_Next_Year                    0.19\n",
       "ROG-Cost_of_Production_perc           0.19\n",
       "ROG-Gross_Sales_perc                  0.19\n",
       "PBIDT                                 0.19\n",
       "ROG-Net_Sales_perc                    0.19\n",
       "Networth                              0.18\n",
       "Market_Capitalisation                 0.18\n",
       "ROG-CP_perc                           0.18\n",
       "ROG-PBDT_perc                         0.18\n",
       "Net_Working_Capital_                  0.17\n",
       "ROG-PBIT_perc                         0.17\n",
       "ROG-PBT_perc                          0.17\n",
       "ROG-PBIDT_perc                        0.17\n",
       "Selling_Cost                          0.17\n",
       "Other_Income                          0.17\n",
       "CEPS_annualised_Unit_Curr             0.17\n",
       "ROG-PAT_perc                          0.17\n",
       "PBIDTM_perc[Latest]                   0.17\n",
       "Capital_Employed                      0.17\n",
       "Total_Debt                            0.16\n",
       "Current_Liabilities_and_Provisions_   0.16\n",
       "Current_Assets_                       0.16\n",
       "Total_Assets_to_Liabilities_          0.16\n",
       "ROG-Capital_Employed_perc             0.16\n",
       "Current_Ratio[Latest]                 0.16\n",
       "Cost_of_Production                    0.16\n",
       "Value_Of_Output                       0.16\n",
       "Net_Sales                             0.16\n",
       "Gross_Sales                           0.15\n",
       "Gross_Block_                          0.15\n",
       "ROG-Market_Capitalisation_perc        0.14\n",
       "Fixed_Assets_Ratio[Latest]            0.14\n",
       "Book_Value_Adj._Unit_Curr             0.14\n",
       "Book_Value_Unit_Curr                  0.14\n",
       "ROG-Total_Assets_perc                 0.13\n",
       "Value_of_Output_to_Gross_Block        0.13\n",
       "Equity_Paid_Up                        0.12\n",
       "Debtors_Velocity_Days                 0.11\n",
       "Creditors_Velocity_Days               0.11\n",
       "Inventory_Ratio[Latest]               0.10\n",
       "Debtors_Ratio[Latest]                 0.10\n",
       "Inventory_Velocity_Days               0.10\n",
       "Total_Asset_Turnover_Ratio[Latest]    0.06\n",
       "Value_of_Output_to_Total_Assets       0.04\n",
       "Co_Name                               0.00\n",
       "default                               0.00\n",
       "Co_Code                               0.00\n",
       "dtype: float64"
      ]
     },
     "execution_count": 36,
     "metadata": {},
     "output_type": "execute_result"
    }
   ],
   "source": [
    "Company_sub1.isnull().sum().sort_values(ascending = False)/Company_sub1.index.size"
   ]
  },
  {
   "cell_type": "markdown",
   "metadata": {},
   "source": [
    "## Dropping columns with more than 30% missing values"
   ]
  },
  {
   "cell_type": "code",
   "execution_count": 37,
   "metadata": {},
   "outputs": [],
   "source": [
    "Company_sub2 = Company_sub1.drop(['ROG-Revenue_expenses_in_forex_perc','ROG-Revenue_earnings_in_forex_perc',], axis = 1)"
   ]
  },
  {
   "cell_type": "code",
   "execution_count": 38,
   "metadata": {},
   "outputs": [
    {
     "data": {
      "text/plain": [
       "(3586, 66)"
      ]
     },
     "execution_count": 38,
     "metadata": {},
     "output_type": "execute_result"
    }
   ],
   "source": [
    "Company_sub2.shape"
   ]
  },
  {
   "cell_type": "markdown",
   "metadata": {},
   "source": [
    "# Segregate the predictors and response"
   ]
  },
  {
   "cell_type": "code",
   "execution_count": 39,
   "metadata": {},
   "outputs": [],
   "source": [
    "predictors = Company_sub2.drop('default', axis = 1)\n",
    "response = Company_sub2['default']"
   ]
  },
  {
   "cell_type": "markdown",
   "metadata": {},
   "source": [
    "# Scale the predictors"
   ]
  },
  {
   "cell_type": "code",
   "execution_count": 40,
   "metadata": {},
   "outputs": [],
   "source": [
    "from sklearn.preprocessing import StandardScaler\n",
    "scaler = StandardScaler()\n",
    "scaled_predictors = pd.DataFrame(scaler.fit_transform(predictors), columns = predictors.columns)"
   ]
  },
  {
   "cell_type": "code",
   "execution_count": 41,
   "metadata": {},
   "outputs": [],
   "source": [
    "Company_sub3 = pd.concat([scaled_predictors, response], axis = 1)"
   ]
  },
  {
   "cell_type": "markdown",
   "metadata": {},
   "source": [
    "**Standardization prevents variables with larger scales from dominating how clusters are defined. It allows all variables to be considered by the algorithm with equal importance.**"
   ]
  },
  {
   "cell_type": "markdown",
   "metadata": {},
   "source": [
    "# Imputing the remaining missing values"
   ]
  },
  {
   "cell_type": "code",
   "execution_count": 42,
   "metadata": {},
   "outputs": [],
   "source": [
    "from sklearn.impute import KNNImputer"
   ]
  },
  {
   "cell_type": "code",
   "execution_count": 43,
   "metadata": {},
   "outputs": [],
   "source": [
    "imputer = KNNImputer(n_neighbors=10)"
   ]
  },
  {
   "cell_type": "code",
   "execution_count": 44,
   "metadata": {},
   "outputs": [],
   "source": [
    "Company_imputed = pd.DataFrame(imputer.fit_transform(Company_sub3), columns = Company_sub3.columns)"
   ]
  },
  {
   "cell_type": "code",
   "execution_count": 45,
   "metadata": {},
   "outputs": [
    {
     "data": {
      "text/plain": [
       "Co_Code                                0\n",
       "Co_Name                                0\n",
       "Networth_Next_Year                     0\n",
       "Equity_Paid_Up                         0\n",
       "Networth                               0\n",
       "Capital_Employed                       0\n",
       "Total_Debt                             0\n",
       "Gross_Block_                           0\n",
       "Net_Working_Capital_                   0\n",
       "Current_Assets_                        0\n",
       "Current_Liabilities_and_Provisions_    0\n",
       "Total_Assets_to_Liabilities_           0\n",
       "Gross_Sales                            0\n",
       "Net_Sales                              0\n",
       "Other_Income                           0\n",
       "Value_Of_Output                        0\n",
       "Cost_of_Production                     0\n",
       "Selling_Cost                           0\n",
       "PBIDT                                  0\n",
       "PBDT                                   0\n",
       "PBIT                                   0\n",
       "PBT                                    0\n",
       "PAT                                    0\n",
       "Adjusted_PAT                           0\n",
       "CP                                     0\n",
       "Revenue_earnings_in_forex              0\n",
       "Revenue_expenses_in_forex              0\n",
       "Capital_expenses_in_forex              0\n",
       "Book_Value_Unit_Curr                   0\n",
       "Book_Value_Adj._Unit_Curr              0\n",
       "Market_Capitalisation                  0\n",
       "CEPS_annualised_Unit_Curr              0\n",
       "Cash_Flow_From_Operating_Activities    0\n",
       "Cash_Flow_From_Investing_Activities    0\n",
       "Cash_Flow_From_Financing_Activities    0\n",
       "ROG-Net_Worth_perc                     0\n",
       "ROG-Capital_Employed_perc              0\n",
       "ROG-Gross_Block_perc                   0\n",
       "ROG-Gross_Sales_perc                   0\n",
       "ROG-Net_Sales_perc                     0\n",
       "ROG-Cost_of_Production_perc            0\n",
       "ROG-Total_Assets_perc                  0\n",
       "ROG-PBIDT_perc                         0\n",
       "ROG-PBDT_perc                          0\n",
       "ROG-PBIT_perc                          0\n",
       "ROG-PBT_perc                           0\n",
       "ROG-PAT_perc                           0\n",
       "ROG-CP_perc                            0\n",
       "ROG-Market_Capitalisation_perc         0\n",
       "Current_Ratio[Latest]                  0\n",
       "Fixed_Assets_Ratio[Latest]             0\n",
       "Inventory_Ratio[Latest]                0\n",
       "Debtors_Ratio[Latest]                  0\n",
       "Total_Asset_Turnover_Ratio[Latest]     0\n",
       "Interest_Cover_Ratio[Latest]           0\n",
       "PBIDTM_perc[Latest]                    0\n",
       "PBITM_perc[Latest]                     0\n",
       "PBDTM_perc[Latest]                     0\n",
       "CPM_perc[Latest]                       0\n",
       "APATM_perc[Latest]                     0\n",
       "Debtors_Velocity_Days                  0\n",
       "Creditors_Velocity_Days                0\n",
       "Inventory_Velocity_Days                0\n",
       "Value_of_Output_to_Total_Assets        0\n",
       "Value_of_Output_to_Gross_Block         0\n",
       "default                                0\n",
       "dtype: int64"
      ]
     },
     "execution_count": 45,
     "metadata": {},
     "output_type": "execute_result"
    }
   ],
   "source": [
    "Company_imputed.isnull().sum()"
   ]
  },
  {
   "cell_type": "markdown",
   "metadata": {},
   "source": [
    "## Inspect possible correlations between independent variables"
   ]
  },
  {
   "cell_type": "code",
   "execution_count": 46,
   "metadata": {},
   "outputs": [
    {
     "data": {
      "text/plain": [
       "<matplotlib.axes._subplots.AxesSubplot at 0x55f0c75148>"
      ]
     },
     "execution_count": 46,
     "metadata": {},
     "output_type": "execute_result"
    },
    {
     "data": {
      "image/png": "[encoded data removed]",
      "text/plain": [
       "<Figure size 864x576 with 2 Axes>"
      ]
     },
     "metadata": {
      "needs_background": "light"
     },
     "output_type": "display_data"
    }
   ],
   "source": [
    "plt.figure(figsize = (12,8))\n",
    "cor_matrix = Company_imputed.drop('default', axis = 1).corr()\n",
    "sns.heatmap(cor_matrix, cmap = 'plasma', vmin = -1, vmax= 1)"
   ]
  },
  {
   "cell_type": "code",
   "execution_count": 47,
   "metadata": {},
   "outputs": [],
   "source": [
    "predictors = Company_imputed.drop('default', axis = 1)\n",
    "response = Company_imputed['default']"
   ]
  },
  {
   "cell_type": "code",
   "execution_count": 48,
   "metadata": {},
   "outputs": [],
   "source": [
    "from sklearn.model_selection import train_test_split\n",
    "y = Company_imputed['default']\n",
    "X_train,X_test,y_train,y_test=train_test_split(predictors,response, test_size=0.33,random_state=42)\n",
    "Default_train = pd.concat([X_train,y_train], axis=1)\n",
    "Default_test = pd.concat([X_test,y_test], axis=1)"
   ]
  },
  {
   "cell_type": "markdown",
   "metadata": {},
   "source": [
    "# For modeling we will use Logistic Regression with recursive feature elimination"
   ]
  },
  {
   "cell_type": "code",
   "execution_count": 49,
   "metadata": {},
   "outputs": [],
   "source": [
    "from sklearn.feature_selection import RFE\n",
    "from sklearn.linear_model import LogisticRegression"
   ]
  },
  {
   "cell_type": "code",
   "execution_count": 50,
   "metadata": {},
   "outputs": [],
   "source": [
    "LogR = LogisticRegression()"
   ]
  },
  {
   "cell_type": "code",
   "execution_count": 51,
   "metadata": {},
   "outputs": [],
   "source": [
    "selector = RFE(estimator = LogR, n_features_to_select=15, step=1)"
   ]
  },
  {
   "cell_type": "code",
   "execution_count": 52,
   "metadata": {},
   "outputs": [],
   "source": [
    "selector = selector.fit(X_train, y_train)"
   ]
  },
  {
   "cell_type": "code",
   "execution_count": 53,
   "metadata": {},
   "outputs": [
    {
     "data": {
      "text/plain": [
       "15"
      ]
     },
     "execution_count": 53,
     "metadata": {},
     "output_type": "execute_result"
    }
   ],
   "source": [
    "selector.n_features_"
   ]
  },
  {
   "cell_type": "code",
   "execution_count": 54,
   "metadata": {},
   "outputs": [
    {
     "data": {
      "text/plain": [
       "array([ 8, 31,  1, 45, 15,  1, 18,  1, 17,  1,  1,  1,  9, 27,  4,  1,  1,\n",
       "       35,  1,  1,  1, 36, 37, 41, 39, 12, 10, 51,  1,  1, 26, 49, 16, 30,\n",
       "       19,  2,  3, 46, 20, 21, 22, 11, 43, 34, 14, 28, 13, 40, 50,  1,  5,\n",
       "       25, 33, 44,  1, 38, 47,  6, 48,  7, 29, 32, 23, 24, 42])"
      ]
     },
     "execution_count": 54,
     "metadata": {},
     "output_type": "execute_result"
    }
   ],
   "source": [
    "selector.ranking_"
   ]
  },
  {
   "cell_type": "markdown",
   "metadata": {},
   "source": [
    "# Validating the model on train and test set"
   ]
  },
  {
   "cell_type": "code",
   "execution_count": 55,
   "metadata": {},
   "outputs": [
    {
     "data": {
      "text/html": [
       "<div>\n",
       "<style scoped>\n",
       "    .dataframe tbody tr th:only-of-type {\n",
       "        vertical-align: middle;\n",
       "    }\n",
       "\n",
       "    .dataframe tbody tr th {\n",
       "        vertical-align: top;\n",
       "    }\n",
       "\n",
       "    .dataframe thead th {\n",
       "        text-align: right;\n",
       "    }\n",
       "</style>\n",
       "<table border=\"1\" class=\"dataframe\">\n",
       "  <thead>\n",
       "    <tr style=\"text-align: right;\">\n",
       "      <th></th>\n",
       "      <th>Feature</th>\n",
       "      <th>Rank</th>\n",
       "    </tr>\n",
       "  </thead>\n",
       "  <tbody>\n",
       "    <tr>\n",
       "      <th>2</th>\n",
       "      <td>Networth_Next_Year</td>\n",
       "      <td>1</td>\n",
       "    </tr>\n",
       "    <tr>\n",
       "      <th>5</th>\n",
       "      <td>Capital_Employed</td>\n",
       "      <td>1</td>\n",
       "    </tr>\n",
       "    <tr>\n",
       "      <th>7</th>\n",
       "      <td>Gross_Block_</td>\n",
       "      <td>1</td>\n",
       "    </tr>\n",
       "    <tr>\n",
       "      <th>9</th>\n",
       "      <td>Current_Assets_</td>\n",
       "      <td>1</td>\n",
       "    </tr>\n",
       "    <tr>\n",
       "      <th>10</th>\n",
       "      <td>Current_Liabilities_and_Provisions_</td>\n",
       "      <td>1</td>\n",
       "    </tr>\n",
       "    <tr>\n",
       "      <th>11</th>\n",
       "      <td>Total_Assets_to_Liabilities_</td>\n",
       "      <td>1</td>\n",
       "    </tr>\n",
       "    <tr>\n",
       "      <th>15</th>\n",
       "      <td>Value_Of_Output</td>\n",
       "      <td>1</td>\n",
       "    </tr>\n",
       "    <tr>\n",
       "      <th>16</th>\n",
       "      <td>Cost_of_Production</td>\n",
       "      <td>1</td>\n",
       "    </tr>\n",
       "    <tr>\n",
       "      <th>18</th>\n",
       "      <td>PBIDT</td>\n",
       "      <td>1</td>\n",
       "    </tr>\n",
       "    <tr>\n",
       "      <th>19</th>\n",
       "      <td>PBDT</td>\n",
       "      <td>1</td>\n",
       "    </tr>\n",
       "    <tr>\n",
       "      <th>20</th>\n",
       "      <td>PBIT</td>\n",
       "      <td>1</td>\n",
       "    </tr>\n",
       "    <tr>\n",
       "      <th>28</th>\n",
       "      <td>Book_Value_Unit_Curr</td>\n",
       "      <td>1</td>\n",
       "    </tr>\n",
       "    <tr>\n",
       "      <th>29</th>\n",
       "      <td>Book_Value_Adj._Unit_Curr</td>\n",
       "      <td>1</td>\n",
       "    </tr>\n",
       "    <tr>\n",
       "      <th>49</th>\n",
       "      <td>Current_Ratio[Latest]</td>\n",
       "      <td>1</td>\n",
       "    </tr>\n",
       "    <tr>\n",
       "      <th>54</th>\n",
       "      <td>Interest_Cover_Ratio[Latest]</td>\n",
       "      <td>1</td>\n",
       "    </tr>\n",
       "  </tbody>\n",
       "</table>\n",
       "</div>"
      ],
      "text/plain": [
       "                                Feature  Rank\n",
       "2                    Networth_Next_Year     1\n",
       "5                      Capital_Employed     1\n",
       "7                          Gross_Block_     1\n",
       "9                       Current_Assets_     1\n",
       "10  Current_Liabilities_and_Provisions_     1\n",
       "11         Total_Assets_to_Liabilities_     1\n",
       "15                      Value_Of_Output     1\n",
       "16                   Cost_of_Production     1\n",
       "18                                PBIDT     1\n",
       "19                                 PBDT     1\n",
       "20                                 PBIT     1\n",
       "28                 Book_Value_Unit_Curr     1\n",
       "29            Book_Value_Adj._Unit_Curr     1\n",
       "49                Current_Ratio[Latest]     1\n",
       "54         Interest_Cover_Ratio[Latest]     1"
      ]
     },
     "execution_count": 55,
     "metadata": {},
     "output_type": "execute_result"
    }
   ],
   "source": [
    "df = pd.DataFrame({'Feature': scaled_predictors.columns, 'Rank': selector.ranking_})\n",
    "df[df['Rank'] == 1]"
   ]
  },
  {
   "cell_type": "code",
   "execution_count": 56,
   "metadata": {},
   "outputs": [],
   "source": [
    "from sklearn.metrics import confusion_matrix, classification_report"
   ]
  },
  {
   "cell_type": "code",
   "execution_count": 57,
   "metadata": {},
   "outputs": [],
   "source": [
    "pred_train = selector.predict(X_train)\n",
    "pred_test = selector.predict(X_test)"
   ]
  },
  {
   "cell_type": "code",
   "execution_count": 58,
   "metadata": {},
   "outputs": [
    {
     "name": "stdout",
     "output_type": "stream",
     "text": [
      "[[2137   20]\n",
      " [  91  154]]\n"
     ]
    }
   ],
   "source": [
    "print(confusion_matrix(y_train, pred_train))"
   ]
  },
  {
   "cell_type": "code",
   "execution_count": 59,
   "metadata": {},
   "outputs": [
    {
     "name": "stdout",
     "output_type": "stream",
     "text": [
      "              precision    recall  f1-score   support\n",
      "\n",
      "         0.0       0.96      0.99      0.97      2157\n",
      "         1.0       0.89      0.63      0.74       245\n",
      "\n",
      "    accuracy                           0.95      2402\n",
      "   macro avg       0.92      0.81      0.85      2402\n",
      "weighted avg       0.95      0.95      0.95      2402\n",
      "\n"
     ]
    }
   ],
   "source": [
    "print(classification_report(y_train, pred_train))"
   ]
  },
  {
   "cell_type": "code",
   "execution_count": 60,
   "metadata": {},
   "outputs": [
    {
     "name": "stdout",
     "output_type": "stream",
     "text": [
      "log_train_precision  0.63\n",
      "log_train_recall  0.74\n",
      "log_train_f1  0.89\n"
     ]
    }
   ],
   "source": [
    "log_metrics=classification_report(y_train, pred_train,output_dict=True)\n",
    "df=pd.DataFrame(log_metrics).transpose()\n",
    "log_train_precision=round(df.loc[\"1.0\"][1],2)\n",
    "log_train_recall=round(df.loc[\"1.0\"][2],2)\n",
    "log_train_f1=round(df.loc[\"1.0\"][0],2)\n",
    "print ('log_train_precision ',log_train_precision)\n",
    "print ('log_train_recall ',log_train_recall)\n",
    "print ('log_train_f1 ',log_train_f1)"
   ]
  },
  {
   "cell_type": "code",
   "execution_count": 61,
   "metadata": {},
   "outputs": [
    {
     "data": {
      "text/plain": [
       "0.9537885095753539"
      ]
     },
     "execution_count": 61,
     "metadata": {},
     "output_type": "execute_result"
    }
   ],
   "source": [
    "# Accuracy - Training Data\n",
    "log_train_acc = selector.score(X_train, y_train)\n",
    "log_train_acc"
   ]
  },
  {
   "cell_type": "code",
   "execution_count": 62,
   "metadata": {},
   "outputs": [],
   "source": [
    "from sklearn.metrics import roc_auc_score,roc_curve,classification_report,confusion_matrix,plot_confusion_matrix"
   ]
  },
  {
   "cell_type": "code",
   "execution_count": 63,
   "metadata": {},
   "outputs": [
    {
     "name": "stdout",
     "output_type": "stream",
     "text": [
      "AUC: 0.968\n"
     ]
    },
    {
     "data": {
      "image/png": "[encoded data removed]",
      "text/plain": [
       "<Figure size 432x288 with 1 Axes>"
      ]
     },
     "metadata": {
      "needs_background": "light"
     },
     "output_type": "display_data"
    }
   ],
   "source": [
    "# predict probabilities\n",
    "probs = selector.predict_proba(X_train)\n",
    "# keep probabilities for the positive outcome only\n",
    "probs = probs[:, 1]\n",
    "# calculate AUC\n",
    "log_train_auc = roc_auc_score(y_train, probs)\n",
    "print('AUC: %.3f' % log_train_auc)\n",
    "# calculate roc curve\n",
    "log_train_fpr, log_train_tpr, log_train_thresholds = roc_curve(y_train, probs)\n",
    "plt.plot([0, 1], [0, 1], linestyle='--')\n",
    "# plot the roc curve for the model\n",
    "plt.plot(log_train_fpr, log_train_tpr);"
   ]
  },
  {
   "cell_type": "code",
   "execution_count": 64,
   "metadata": {},
   "outputs": [
    {
     "name": "stdout",
     "output_type": "stream",
     "text": [
      "[[1024   17]\n",
      " [  46   97]]\n"
     ]
    }
   ],
   "source": [
    "print(confusion_matrix(y_test, pred_test))"
   ]
  },
  {
   "cell_type": "code",
   "execution_count": 65,
   "metadata": {},
   "outputs": [
    {
     "name": "stdout",
     "output_type": "stream",
     "text": [
      "              precision    recall  f1-score   support\n",
      "\n",
      "         0.0       0.96      0.98      0.97      1041\n",
      "         1.0       0.85      0.68      0.75       143\n",
      "\n",
      "    accuracy                           0.95      1184\n",
      "   macro avg       0.90      0.83      0.86      1184\n",
      "weighted avg       0.94      0.95      0.94      1184\n",
      "\n"
     ]
    }
   ],
   "source": [
    "print(classification_report(y_test, pred_test))"
   ]
  },
  {
   "cell_type": "markdown",
   "metadata": {},
   "source": [
    "**We see about 0.63 and 0.68 recall score for both train and test.Also both have f1 score of about 0.75.**\n",
    "\n",
    "**As the model has only 10% of the data as defaults, we will now try to balance the data before fiting the model.**"
   ]
  },
  {
   "cell_type": "code",
   "execution_count": 66,
   "metadata": {},
   "outputs": [
    {
     "name": "stdout",
     "output_type": "stream",
     "text": [
      "log_test_precision  0.68\n",
      "log_test_recall  0.75\n",
      "log_test_f1  0.85\n"
     ]
    }
   ],
   "source": [
    "log_metrics=classification_report(y_test, pred_test,output_dict=True)\n",
    "df=pd.DataFrame(log_metrics).transpose()\n",
    "log_test_precision=round(df.loc[\"1.0\"][1],2)\n",
    "log_test_recall=round(df.loc[\"1.0\"][2],2)\n",
    "log_test_f1=round(df.loc[\"1.0\"][0],2)\n",
    "print ('log_test_precision ',log_test_precision)\n",
    "print ('log_test_recall ',log_test_recall)\n",
    "print ('log_test_f1 ',log_test_f1)"
   ]
  },
  {
   "cell_type": "code",
   "execution_count": 67,
   "metadata": {},
   "outputs": [
    {
     "data": {
      "text/plain": [
       "0.9467905405405406"
      ]
     },
     "execution_count": 67,
     "metadata": {},
     "output_type": "execute_result"
    }
   ],
   "source": [
    "# Accuracy - Test Data\n",
    "log_test_acc = selector.score(X_test, y_test)\n",
    "log_test_acc"
   ]
  },
  {
   "cell_type": "code",
   "execution_count": 68,
   "metadata": {},
   "outputs": [
    {
     "name": "stdout",
     "output_type": "stream",
     "text": [
      "AUC: 0.974\n"
     ]
    },
    {
     "data": {
      "image/png": "[encoded data removed]",
      "text/plain": [
       "<Figure size 432x288 with 1 Axes>"
      ]
     },
     "metadata": {
      "needs_background": "light"
     },
     "output_type": "display_data"
    }
   ],
   "source": [
    "# predict probabilities\n",
    "probs = selector.predict_proba(X_test)\n",
    "# keep probabilities for the positive outcome only\n",
    "probs = probs[:, 1]\n",
    "# calculate AUC\n",
    "log_test_auc = roc_auc_score(y_test, probs)\n",
    "print('AUC: %.3f' % log_test_auc)\n",
    "# calculate roc curve\n",
    "log_test_fpr, log_test_tpr, log_test_thresholds = roc_curve(y_test, probs)\n",
    "plt.plot([0, 1], [0, 1], linestyle='--')\n",
    "# plot the roc curve for the model\n",
    "plt.plot(log_test_fpr, log_test_tpr);"
   ]
  },
  {
   "cell_type": "markdown",
   "metadata": {},
   "source": [
    "# 1.8 Build a Random Forest Model on Train Dataset. Also showcase your model building approach"
   ]
  },
  {
   "cell_type": "markdown",
   "metadata": {},
   "source": [
    "## Ensemble RandomForest Classifier\n",
    "### Building the Random Forest model\n"
   ]
  },
  {
   "cell_type": "code",
   "execution_count": 69,
   "metadata": {},
   "outputs": [],
   "source": [
    "from sklearn.ensemble import RandomForestClassifier"
   ]
  },
  {
   "cell_type": "code",
   "execution_count": 70,
   "metadata": {},
   "outputs": [],
   "source": [
    "#Build a RandomForestCassifier wit n_estimators 100, max_features 6, andfit it on the training data\n",
    "rfcl=RandomForestClassifier(n_estimators=100,max_features=6,random_state=0,oob_score=True)"
   ]
  },
  {
   "cell_type": "code",
   "execution_count": 71,
   "metadata": {},
   "outputs": [],
   "source": [
    "selector_2 = rfcl.fit(X_train, y_train)"
   ]
  },
  {
   "cell_type": "code",
   "execution_count": 72,
   "metadata": {},
   "outputs": [],
   "source": [
    "pred_train_2 = selector_2.predict(X_train)\n",
    "pred_test_2 = selector_2.predict(X_test)"
   ]
  },
  {
   "cell_type": "markdown",
   "metadata": {},
   "source": [
    "# 1.9 Validate the Random Forest Model on test Dataset and state the performance matrices. Also state interpretation from the model"
   ]
  },
  {
   "cell_type": "code",
   "execution_count": 73,
   "metadata": {},
   "outputs": [
    {
     "name": "stdout",
     "output_type": "stream",
     "text": [
      "[[2157    0]\n",
      " [   0  245]]\n"
     ]
    }
   ],
   "source": [
    "print(confusion_matrix(y_train, pred_train_2))"
   ]
  },
  {
   "cell_type": "code",
   "execution_count": 74,
   "metadata": {},
   "outputs": [
    {
     "name": "stdout",
     "output_type": "stream",
     "text": [
      "              precision    recall  f1-score   support\n",
      "\n",
      "         0.0       1.00      1.00      1.00      2157\n",
      "         1.0       1.00      1.00      1.00       245\n",
      "\n",
      "    accuracy                           1.00      2402\n",
      "   macro avg       1.00      1.00      1.00      2402\n",
      "weighted avg       1.00      1.00      1.00      2402\n",
      "\n"
     ]
    }
   ],
   "source": [
    "print(classification_report(y_train, pred_train_2))"
   ]
  },
  {
   "cell_type": "code",
   "execution_count": 75,
   "metadata": {},
   "outputs": [
    {
     "name": "stdout",
     "output_type": "stream",
     "text": [
      "rfcl_train_precision  1.0\n",
      "rfcl_train_recall  1.0\n",
      "rfcl_train_f1  1.0\n"
     ]
    }
   ],
   "source": [
    "rfcl_metrics=classification_report(y_train, pred_train_2,output_dict=True)\n",
    "df=pd.DataFrame(rfcl_metrics).transpose()\n",
    "rfcl_train_precision=round(df.loc[\"1.0\"][1],2)\n",
    "rfcl_train_recall=round(df.loc[\"1.0\"][2],2)\n",
    "rfcl_train_f1=round(df.loc[\"1.0\"][0],2)\n",
    "print ('rfcl_train_precision ',rfcl_train_precision)\n",
    "print ('rfcl_train_recall ',rfcl_train_recall)\n",
    "print ('rfcl_train_f1 ',rfcl_train_f1)"
   ]
  },
  {
   "cell_type": "code",
   "execution_count": 76,
   "metadata": {},
   "outputs": [
    {
     "data": {
      "text/plain": [
       "1.0"
      ]
     },
     "execution_count": 76,
     "metadata": {},
     "output_type": "execute_result"
    }
   ],
   "source": [
    "# Accuracy - Training Data\n",
    "rfcl_train_acc = selector_2.score(X_train, y_train)\n",
    "rfcl_train_acc"
   ]
  },
  {
   "cell_type": "code",
   "execution_count": 77,
   "metadata": {},
   "outputs": [
    {
     "name": "stdout",
     "output_type": "stream",
     "text": [
      "AUC: 1.000\n"
     ]
    },
    {
     "data": {
      "image/png": "[encoded data removed]",
      "text/plain": [
       "<Figure size 432x288 with 1 Axes>"
      ]
     },
     "metadata": {
      "needs_background": "light"
     },
     "output_type": "display_data"
    }
   ],
   "source": [
    "# predict probabilities\n",
    "probs = selector_2.predict_proba(X_train)\n",
    "# keep probabilities for the positive outcome only\n",
    "probs = probs[:, 1]\n",
    "# calculate AUC\n",
    "rfcl_train_auc = roc_auc_score(y_train, probs)\n",
    "print('AUC: %.3f' % rfcl_train_auc)\n",
    "# calculate roc curve\n",
    "rfcl_train_fpr, rfcl_train_tpr, rfcl_train_thresholds = roc_curve(y_train, probs)\n",
    "plt.plot([0, 1], [0, 1], linestyle='--')\n",
    "# plot the roc curve for the model\n",
    "plt.plot(rfcl_train_fpr, rfcl_train_tpr);"
   ]
  },
  {
   "cell_type": "code",
   "execution_count": null,
   "metadata": {},
   "outputs": [],
   "source": []
  },
  {
   "cell_type": "code",
   "execution_count": 78,
   "metadata": {},
   "outputs": [
    {
     "name": "stdout",
     "output_type": "stream",
     "text": [
      "[[1040    1]\n",
      " [  11  132]]\n"
     ]
    }
   ],
   "source": [
    "print(confusion_matrix(y_test, pred_test_2))"
   ]
  },
  {
   "cell_type": "code",
   "execution_count": 79,
   "metadata": {},
   "outputs": [
    {
     "name": "stdout",
     "output_type": "stream",
     "text": [
      "              precision    recall  f1-score   support\n",
      "\n",
      "         0.0       0.99      1.00      0.99      1041\n",
      "         1.0       0.99      0.92      0.96       143\n",
      "\n",
      "    accuracy                           0.99      1184\n",
      "   macro avg       0.99      0.96      0.98      1184\n",
      "weighted avg       0.99      0.99      0.99      1184\n",
      "\n"
     ]
    }
   ],
   "source": [
    "print(classification_report(y_test, pred_test_2))"
   ]
  },
  {
   "cell_type": "code",
   "execution_count": 80,
   "metadata": {},
   "outputs": [
    {
     "name": "stdout",
     "output_type": "stream",
     "text": [
      "rfcl_test_precision  0.92\n",
      "rfcl_test_recall  0.96\n",
      "rfcl_test_f1  0.99\n"
     ]
    }
   ],
   "source": [
    "rfcl_metrics=classification_report(y_test, pred_test_2,output_dict=True)\n",
    "df=pd.DataFrame(rfcl_metrics).transpose()\n",
    "rfcl_test_precision=round(df.loc[\"1.0\"][1],2)\n",
    "rfcl_test_recall=round(df.loc[\"1.0\"][2],2)\n",
    "rfcl_test_f1=round(df.loc[\"1.0\"][0],2)\n",
    "print ('rfcl_test_precision ',rfcl_test_precision)\n",
    "print ('rfcl_test_recall ',rfcl_test_recall)\n",
    "print ('rfcl_test_f1 ',rfcl_test_f1)"
   ]
  },
  {
   "cell_type": "code",
   "execution_count": 81,
   "metadata": {},
   "outputs": [
    {
     "data": {
      "text/plain": [
       "0.9898648648648649"
      ]
     },
     "execution_count": 81,
     "metadata": {},
     "output_type": "execute_result"
    }
   ],
   "source": [
    "# Accuracy - Test Data\n",
    "rfcl_test_acc = selector_2.score(X_test, y_test)\n",
    "rfcl_test_acc"
   ]
  },
  {
   "cell_type": "code",
   "execution_count": 82,
   "metadata": {},
   "outputs": [
    {
     "name": "stdout",
     "output_type": "stream",
     "text": [
      "AUC: 0.998\n"
     ]
    },
    {
     "data": {
      "image/png": "[encoded data removed]",
      "text/plain": [
       "<Figure size 432x288 with 1 Axes>"
      ]
     },
     "metadata": {
      "needs_background": "light"
     },
     "output_type": "display_data"
    }
   ],
   "source": [
    "# predict probabilities\n",
    "probs = selector_2.predict_proba(X_test)\n",
    "# keep probabilities for the positive outcome only\n",
    "probs = probs[:, 1]\n",
    "# calculate AUC\n",
    "rfcl_test_auc = roc_auc_score(y_test, probs)\n",
    "print('AUC: %.3f' % rfcl_test_auc)\n",
    "# calculate roc curve\n",
    "rfcl_test_fpr, rfcl_test_tpr, rfcl_test_thresholds = roc_curve(y_test, probs)\n",
    "plt.plot([0, 1], [0, 1], linestyle='--')\n",
    "# plot the roc curve for the model\n",
    "plt.plot(rfcl_test_fpr, rfcl_test_tpr);"
   ]
  },
  {
   "cell_type": "markdown",
   "metadata": {},
   "source": [
    "# 1.10 Build a LDA Model on Train Dataset. Also showcase your model building approach"
   ]
  },
  {
   "cell_type": "code",
   "execution_count": 83,
   "metadata": {},
   "outputs": [],
   "source": [
    "from sklearn.discriminant_analysis import LinearDiscriminantAnalysis"
   ]
  },
  {
   "cell_type": "code",
   "execution_count": 133,
   "metadata": {},
   "outputs": [
    {
     "data": {
      "text/plain": [
       "LinearDiscriminantAnalysis()"
      ]
     },
     "execution_count": 133,
     "metadata": {},
     "output_type": "execute_result"
    }
   ],
   "source": [
    "#Build LDA Model\n",
    "# Refer details for LDA at http://scikit-learn.org/stable/modules/generated/sklearn.discriminant_analysis.LinearDiscriminantAnalysis.html\n",
    "clf = LinearDiscriminantAnalysis()\n",
    "clf"
   ]
  },
  {
   "cell_type": "code",
   "execution_count": 134,
   "metadata": {},
   "outputs": [
    {
     "data": {
      "text/plain": [
       "LinearDiscriminantAnalysis()"
      ]
     },
     "execution_count": 134,
     "metadata": {},
     "output_type": "execute_result"
    }
   ],
   "source": [
    "selector_3 = clf.fit(X_train, y_train)\n",
    "selector_3"
   ]
  },
  {
   "cell_type": "code",
   "execution_count": 86,
   "metadata": {},
   "outputs": [],
   "source": [
    "pred_train_3 = selector_3.predict(X_train)\n",
    "pred_test_3 = selector_3.predict(X_test)"
   ]
  },
  {
   "cell_type": "markdown",
   "metadata": {},
   "source": [
    "# 1.11 Validate the LDA Model on test Dataset and state the performance matrices. Also state interpretation from the model"
   ]
  },
  {
   "cell_type": "code",
   "execution_count": 87,
   "metadata": {},
   "outputs": [
    {
     "name": "stdout",
     "output_type": "stream",
     "text": [
      "[[2128   29]\n",
      " [ 121  124]]\n"
     ]
    }
   ],
   "source": [
    "print(confusion_matrix(y_train, pred_train_3))"
   ]
  },
  {
   "cell_type": "code",
   "execution_count": 88,
   "metadata": {},
   "outputs": [
    {
     "name": "stdout",
     "output_type": "stream",
     "text": [
      "              precision    recall  f1-score   support\n",
      "\n",
      "         0.0       0.95      0.99      0.97      2157\n",
      "         1.0       0.81      0.51      0.62       245\n",
      "\n",
      "    accuracy                           0.94      2402\n",
      "   macro avg       0.88      0.75      0.79      2402\n",
      "weighted avg       0.93      0.94      0.93      2402\n",
      "\n"
     ]
    }
   ],
   "source": [
    "print(classification_report(y_train, pred_train_3))"
   ]
  },
  {
   "cell_type": "code",
   "execution_count": 89,
   "metadata": {},
   "outputs": [
    {
     "name": "stdout",
     "output_type": "stream",
     "text": [
      "lda_train_precision  0.51\n",
      "lda_train_recall  0.62\n",
      "lda_train_f1  0.81\n"
     ]
    }
   ],
   "source": [
    "lda_metrics=classification_report(y_train, pred_train_3,output_dict=True)\n",
    "df=pd.DataFrame(lda_metrics).transpose()\n",
    "lda_train_precision=round(df.loc[\"1.0\"][1],2)\n",
    "lda_train_recall=round(df.loc[\"1.0\"][2],2)\n",
    "lda_train_f1=round(df.loc[\"1.0\"][0],2)\n",
    "print ('lda_train_precision ',lda_train_precision)\n",
    "print ('lda_train_recall ',lda_train_recall)\n",
    "print ('lda_train_f1 ',lda_train_f1)"
   ]
  },
  {
   "cell_type": "code",
   "execution_count": 90,
   "metadata": {},
   "outputs": [
    {
     "data": {
      "text/plain": [
       "0.9375520399666945"
      ]
     },
     "execution_count": 90,
     "metadata": {},
     "output_type": "execute_result"
    }
   ],
   "source": [
    "# Accuracy - Training Data\n",
    "lda_train_acc = selector_3.score(X_train, y_train)\n",
    "lda_train_acc"
   ]
  },
  {
   "cell_type": "code",
   "execution_count": 91,
   "metadata": {},
   "outputs": [
    {
     "name": "stdout",
     "output_type": "stream",
     "text": [
      "AUC: 0.956\n"
     ]
    },
    {
     "data": {
      "image/png": "[encoded data removed]",
      "text/plain": [
       "<Figure size 432x288 with 1 Axes>"
      ]
     },
     "metadata": {
      "needs_background": "light"
     },
     "output_type": "display_data"
    }
   ],
   "source": [
    "# predict probabilities\n",
    "probs = selector_3.predict_proba(X_train)\n",
    "# keep probabilities for the positive outcome only\n",
    "probs = probs[:, 1]\n",
    "# calculate AUC\n",
    "lda_train_auc = roc_auc_score(y_train, probs)\n",
    "print('AUC: %.3f' % lda_train_auc)\n",
    "# calculate roc curve\n",
    "lda_train_fpr, lda_train_tpr, lda_train_thresholds = roc_curve(y_train, probs)\n",
    "plt.plot([0, 1], [0, 1], linestyle='--')\n",
    "# plot the roc curve for the model\n",
    "plt.plot(lda_train_fpr, lda_train_tpr);"
   ]
  },
  {
   "cell_type": "markdown",
   "metadata": {},
   "source": [
    "## Test Dataset:"
   ]
  },
  {
   "cell_type": "code",
   "execution_count": 92,
   "metadata": {},
   "outputs": [
    {
     "name": "stdout",
     "output_type": "stream",
     "text": [
      "[[1026   15]\n",
      " [  77   66]]\n"
     ]
    }
   ],
   "source": [
    "print(confusion_matrix(y_test, pred_test_3))"
   ]
  },
  {
   "cell_type": "code",
   "execution_count": 93,
   "metadata": {},
   "outputs": [
    {
     "name": "stdout",
     "output_type": "stream",
     "text": [
      "              precision    recall  f1-score   support\n",
      "\n",
      "         0.0       0.93      0.99      0.96      1041\n",
      "         1.0       0.81      0.46      0.59       143\n",
      "\n",
      "    accuracy                           0.92      1184\n",
      "   macro avg       0.87      0.72      0.77      1184\n",
      "weighted avg       0.92      0.92      0.91      1184\n",
      "\n"
     ]
    }
   ],
   "source": [
    "print(classification_report(y_test, pred_test_3))"
   ]
  },
  {
   "cell_type": "code",
   "execution_count": 94,
   "metadata": {},
   "outputs": [
    {
     "name": "stdout",
     "output_type": "stream",
     "text": [
      "lda_test_precision  0.46\n",
      "lda_test_recall  0.59\n",
      "lda_test_f1  0.81\n"
     ]
    }
   ],
   "source": [
    "lda_metrics=classification_report(y_test, pred_test_3,output_dict=True)\n",
    "df=pd.DataFrame(lda_metrics).transpose()\n",
    "lda_test_precision=round(df.loc[\"1.0\"][1],2)\n",
    "lda_test_recall=round(df.loc[\"1.0\"][2],2)\n",
    "lda_test_f1=round(df.loc[\"1.0\"][0],2)\n",
    "print ('lda_test_precision ',lda_test_precision)\n",
    "print ('lda_test_recall ',lda_test_recall)\n",
    "print ('lda_test_f1 ',lda_test_f1)"
   ]
  },
  {
   "cell_type": "code",
   "execution_count": 95,
   "metadata": {},
   "outputs": [
    {
     "data": {
      "text/plain": [
       "0.9222972972972973"
      ]
     },
     "execution_count": 95,
     "metadata": {},
     "output_type": "execute_result"
    }
   ],
   "source": [
    "# Accuracy - Test Data\n",
    "lda_test_acc = selector_3.score(X_test, y_test)\n",
    "lda_test_acc"
   ]
  },
  {
   "cell_type": "code",
   "execution_count": 96,
   "metadata": {},
   "outputs": [
    {
     "name": "stdout",
     "output_type": "stream",
     "text": [
      "AUC: 0.942\n"
     ]
    },
    {
     "data": {
      "image/png": "[encoded data removed]",
      "text/plain": [
       "<Figure size 432x288 with 1 Axes>"
      ]
     },
     "metadata": {
      "needs_background": "light"
     },
     "output_type": "display_data"
    }
   ],
   "source": [
    "# predict probabilities\n",
    "probs = selector_3.predict_proba(X_test)\n",
    "# keep probabilities for the positive outcome only\n",
    "probs = probs[:, 1]\n",
    "# calculate AUC\n",
    "lda_test_auc = roc_auc_score(y_test, probs)\n",
    "print('AUC: %.3f' % lda_test_auc)\n",
    "# calculate roc curve\n",
    "lda_test_fpr, lda_test_tpr, lda_test_thresholds = roc_curve(y_test, probs)\n",
    "plt.plot([0, 1], [0, 1], linestyle='--')\n",
    "# plot the roc curve for the model\n",
    "plt.plot(lda_test_fpr, lda_test_tpr);"
   ]
  },
  {
   "cell_type": "markdown",
   "metadata": {},
   "source": [
    "# 1.12 Compare the performances of Logistics, Radom Forest and LDA models (include ROC Curve)"
   ]
  },
  {
   "cell_type": "code",
   "execution_count": 97,
   "metadata": {},
   "outputs": [
    {
     "data": {
      "text/plain": [
       "<matplotlib.legend.Legend at 0x55efaba888>"
      ]
     },
     "execution_count": 97,
     "metadata": {},
     "output_type": "execute_result"
    },
    {
     "data": {
      "image/png": "[encoded data removed]",
      "text/plain": [
       "<Figure size 432x288 with 1 Axes>"
      ]
     },
     "metadata": {
      "needs_background": "light"
     },
     "output_type": "display_data"
    }
   ],
   "source": [
    "plt.plot([0, 1], [0, 1], linestyle='--')\n",
    "plt.plot(log_train_fpr, log_train_tpr,color='red',label=\"Logistic Regression\")\n",
    "plt.plot(rfcl_train_fpr,rfcl_train_tpr,color='blue',label=\"Random Forest Classifier\")\n",
    "plt.plot(lda_train_fpr,lda_train_tpr,color='yellow',label=\"Linear Discriminatory Analysis\")\n",
    "plt.xlabel('False Positive Rate')\n",
    "plt.ylabel('True Positive Rate')\n",
    "plt.title('ROC')\n",
    "plt.legend(bbox_to_anchor=(0., 1.02, 1., .102), loc='lower right')"
   ]
  },
  {
   "cell_type": "code",
   "execution_count": 98,
   "metadata": {},
   "outputs": [
    {
     "data": {
      "text/plain": [
       "<matplotlib.legend.Legend at 0x55efc57ac8>"
      ]
     },
     "execution_count": 98,
     "metadata": {},
     "output_type": "execute_result"
    },
    {
     "data": {
      "image/png": "[encoded data removed]",
      "text/plain": [
       "<Figure size 432x288 with 1 Axes>"
      ]
     },
     "metadata": {
      "needs_background": "light"
     },
     "output_type": "display_data"
    }
   ],
   "source": [
    "plt.plot([0, 1], [0, 1], linestyle='--')\n",
    "plt.plot(log_test_fpr, log_test_tpr,color='red',label=\"Logistic Regression\")\n",
    "plt.plot(rfcl_test_fpr,rfcl_test_tpr,color='blue',label=\"Random Forest Classifier\")\n",
    "plt.plot(lda_test_fpr,lda_test_tpr,color='yellow',label=\"Linear Discriminatory Analysis\")\n",
    "plt.xlabel('False Positive Rate')\n",
    "plt.ylabel('True Positive Rate')\n",
    "plt.title('ROC')\n",
    "plt.legend(bbox_to_anchor=(0., 1.02, 1., .102), loc='lower right')"
   ]
  },
  {
   "cell_type": "code",
   "execution_count": 99,
   "metadata": {},
   "outputs": [
    {
     "data": {
      "text/html": [
       "<div>\n",
       "<style scoped>\n",
       "    .dataframe tbody tr th:only-of-type {\n",
       "        vertical-align: middle;\n",
       "    }\n",
       "\n",
       "    .dataframe tbody tr th {\n",
       "        vertical-align: top;\n",
       "    }\n",
       "\n",
       "    .dataframe thead th {\n",
       "        text-align: right;\n",
       "    }\n",
       "</style>\n",
       "<table border=\"1\" class=\"dataframe\">\n",
       "  <thead>\n",
       "    <tr style=\"text-align: right;\">\n",
       "      <th></th>\n",
       "      <th>Logistic Regression Train</th>\n",
       "      <th>Logistic Regression Test</th>\n",
       "      <th>Random Forest Classifier Train</th>\n",
       "      <th>Random Forest Classifier Test</th>\n",
       "      <th>Linear Discriminent Analysis Train</th>\n",
       "      <th>Linear Discriminent Analysis Test</th>\n",
       "    </tr>\n",
       "  </thead>\n",
       "  <tbody>\n",
       "    <tr>\n",
       "      <th>Accuracy</th>\n",
       "      <td>0.95</td>\n",
       "      <td>0.95</td>\n",
       "      <td>1.00</td>\n",
       "      <td>0.99</td>\n",
       "      <td>0.94</td>\n",
       "      <td>0.92</td>\n",
       "    </tr>\n",
       "    <tr>\n",
       "      <th>AUC</th>\n",
       "      <td>0.97</td>\n",
       "      <td>0.97</td>\n",
       "      <td>1.00</td>\n",
       "      <td>1.00</td>\n",
       "      <td>0.96</td>\n",
       "      <td>0.94</td>\n",
       "    </tr>\n",
       "    <tr>\n",
       "      <th>Recall</th>\n",
       "      <td>0.74</td>\n",
       "      <td>0.75</td>\n",
       "      <td>1.00</td>\n",
       "      <td>0.96</td>\n",
       "      <td>0.62</td>\n",
       "      <td>0.59</td>\n",
       "    </tr>\n",
       "    <tr>\n",
       "      <th>Precision</th>\n",
       "      <td>0.63</td>\n",
       "      <td>0.68</td>\n",
       "      <td>1.00</td>\n",
       "      <td>0.92</td>\n",
       "      <td>0.51</td>\n",
       "      <td>0.46</td>\n",
       "    </tr>\n",
       "    <tr>\n",
       "      <th>F1 Score</th>\n",
       "      <td>0.89</td>\n",
       "      <td>0.85</td>\n",
       "      <td>1.00</td>\n",
       "      <td>0.99</td>\n",
       "      <td>0.81</td>\n",
       "      <td>0.81</td>\n",
       "    </tr>\n",
       "  </tbody>\n",
       "</table>\n",
       "</div>"
      ],
      "text/plain": [
       "           Logistic Regression Train  Logistic Regression Test  \\\n",
       "Accuracy                        0.95                      0.95   \n",
       "AUC                             0.97                      0.97   \n",
       "Recall                          0.74                      0.75   \n",
       "Precision                       0.63                      0.68   \n",
       "F1 Score                        0.89                      0.85   \n",
       "\n",
       "           Random Forest Classifier Train  Random Forest Classifier Test  \\\n",
       "Accuracy                             1.00                           0.99   \n",
       "AUC                                  1.00                           1.00   \n",
       "Recall                               1.00                           0.96   \n",
       "Precision                            1.00                           0.92   \n",
       "F1 Score                             1.00                           0.99   \n",
       "\n",
       "           Linear Discriminent Analysis Train  \\\n",
       "Accuracy                                 0.94   \n",
       "AUC                                      0.96   \n",
       "Recall                                   0.62   \n",
       "Precision                                0.51   \n",
       "F1 Score                                 0.81   \n",
       "\n",
       "           Linear Discriminent Analysis Test  \n",
       "Accuracy                                0.92  \n",
       "AUC                                     0.94  \n",
       "Recall                                  0.59  \n",
       "Precision                               0.46  \n",
       "F1 Score                                0.81  "
      ]
     },
     "execution_count": 99,
     "metadata": {},
     "output_type": "execute_result"
    }
   ],
   "source": [
    "index=['Accuracy', 'AUC', 'Recall','Precision','F1 Score']\n",
    "dt = pd.DataFrame({'Logistic Regression Train':[log_train_acc,log_train_auc,log_train_recall,log_train_precision,log_train_f1],\n",
    "        'Logistic Regression Test':[log_test_acc,log_test_auc,log_test_recall,log_test_precision,log_test_f1],\n",
    "        'Random Forest Classifier Train':[rfcl_train_acc,rfcl_train_auc,rfcl_train_recall,rfcl_train_precision,rfcl_train_f1],\n",
    "        'Random Forest Classifier Test':[rfcl_test_acc,rfcl_test_auc,rfcl_test_recall,rfcl_test_precision,rfcl_test_f1],\n",
    "       'Linear Discriminent Analysis Train':[lda_train_acc,lda_train_auc,lda_train_recall,lda_train_precision,lda_train_f1],\n",
    "        'Linear Discriminent Analysis Test':[lda_test_acc,lda_test_auc,lda_test_recall,lda_test_precision,lda_test_f1],\n",
    "       },index=index)\n",
    "round(dt,2)"
   ]
  },
  {
   "cell_type": "markdown",
   "metadata": {},
   "source": [
    "# 1.13 Recommendations from the above models\n"
   ]
  },
  {
   "cell_type": "markdown",
   "metadata": {},
   "source": [
    "1. From this we can observe that, Logistic regression has slightly better performance than the Linear Discriminatory Analysis. As it has better recall, precision and F1 score.\n",
    "\n",
    "2. Logistic regression also performs well in Test dataset comparision to Linear Discriminatory Analysis.\n",
    "\n",
    "3. In terms of performance Random forest classifier performs way better then other two models.But the result of 100% accuracy and recall indicates the lack of equal number of defaults and non defaults in the dataset.\n",
    "\n",
    "4. So it is required to do some hypertuning for the Random forest model.\n",
    "\n",
    "5. As it is indicated that the dataset has only 10% of defaults.It is difficult to perform good modelling to extract a valid conclusion .\n",
    "\n",
    "6. From the observation its concluded that Logistic Regression will be the better model in this business problem. As it performs reasonally well."
   ]
  },
  {
   "cell_type": "code",
   "execution_count": null,
   "metadata": {},
   "outputs": [],
   "source": []
  },
  {
   "cell_type": "markdown",
   "metadata": {},
   "source": [
    "# Market Risk\n",
    "## The dataset contains 6 years of information(weekly stock information) on the stock prices of 10 different Indian Stocks. Calculate the mean and standard deviation on the stock returns and share insights."
   ]
  },
  {
   "cell_type": "code",
   "execution_count": 100,
   "metadata": {},
   "outputs": [
    {
     "name": "stdout",
     "output_type": "stream",
     "text": [
      "Requirement already satisfied: tabulate in c:\\users\\pc\\anaconda3\\lib\\site-packages (0.8.9)\n",
      "Requirement already satisfied: iexfinance in c:\\users\\pc\\anaconda3\\lib\\site-packages (0.5.0)\n",
      "Requirement already satisfied: requests in c:\\users\\pc\\anaconda3\\lib\\site-packages (from iexfinance) (2.22.0)\n",
      "Requirement already satisfied: pandas in c:\\users\\pc\\anaconda3\\lib\\site-packages (from iexfinance) (1.0.1)\n",
      "Requirement already satisfied: certifi>=2017.4.17 in c:\\users\\pc\\anaconda3\\lib\\site-packages (from requests->iexfinance) (2019.11.28)\n",
      "Requirement already satisfied: idna<2.9,>=2.5 in c:\\users\\pc\\anaconda3\\lib\\site-packages (from requests->iexfinance) (2.8)\n",
      "Requirement already satisfied: chardet<3.1.0,>=3.0.2 in c:\\users\\pc\\anaconda3\\lib\\site-packages (from requests->iexfinance) (3.0.4)\n",
      "Requirement already satisfied: urllib3!=1.25.0,!=1.25.1,<1.26,>=1.21.1 in c:\\users\\pc\\anaconda3\\lib\\site-packages (from requests->iexfinance) (1.25.8)\n",
      "Requirement already satisfied: numpy>=1.13.3 in c:\\users\\pc\\anaconda3\\lib\\site-packages (from pandas->iexfinance) (1.18.1)\n",
      "Requirement already satisfied: python-dateutil>=2.6.1 in c:\\users\\pc\\anaconda3\\lib\\site-packages (from pandas->iexfinance) (2.8.1)\n",
      "Requirement already satisfied: pytz>=2017.2 in c:\\users\\pc\\anaconda3\\lib\\site-packages (from pandas->iexfinance) (2019.3)\n",
      "Requirement already satisfied: six>=1.5 in c:\\users\\pc\\anaconda3\\lib\\site-packages (from python-dateutil>=2.6.1->pandas->iexfinance) (1.14.0)\n",
      "Requirement already satisfied: datetime in c:\\users\\pc\\anaconda3\\lib\\site-packages (4.3)\n",
      "Requirement already satisfied: pytz in c:\\users\\pc\\anaconda3\\lib\\site-packages (from datetime) (2019.3)\n",
      "Requirement already satisfied: zope.interface in c:\\users\\pc\\anaconda3\\lib\\site-packages (from datetime) (5.4.0)\n",
      "Requirement already satisfied: setuptools in c:\\users\\pc\\anaconda3\\lib\\site-packages (from zope.interface->datetime) (45.2.0.post20200210)\n"
     ]
    }
   ],
   "source": [
    "!pip install tabulate\n",
    "!pip install iexfinance\n",
    "!pip install datetime"
   ]
  },
  {
   "cell_type": "code",
   "execution_count": 101,
   "metadata": {},
   "outputs": [],
   "source": [
    "import pandas as pd\n",
    "import numpy as np\n",
    "import matplotlib.pyplot as plt\n",
    "import seaborn as sns\n",
    "color = sns.color_palette()\n",
    "import sklearn.metrics as metrics\n",
    "from scipy.stats import norm \n",
    "from tabulate import tabulate\n",
    "\n",
    "from iexfinance.stocks import get_historical_data\n",
    "from iexfinance.stocks import Stock\n",
    "from datetime import datetime\n",
    "\n",
    "import warnings\n",
    "warnings.filterwarnings(\"ignore\")"
   ]
  },
  {
   "cell_type": "code",
   "execution_count": 102,
   "metadata": {},
   "outputs": [],
   "source": [
    "df=pd.read_csv('Market+Risk+Dataset.csv')"
   ]
  },
  {
   "cell_type": "code",
   "execution_count": 103,
   "metadata": {},
   "outputs": [
    {
     "data": {
      "text/html": [
       "<div>\n",
       "<style scoped>\n",
       "    .dataframe tbody tr th:only-of-type {\n",
       "        vertical-align: middle;\n",
       "    }\n",
       "\n",
       "    .dataframe tbody tr th {\n",
       "        vertical-align: top;\n",
       "    }\n",
       "\n",
       "    .dataframe thead th {\n",
       "        text-align: right;\n",
       "    }\n",
       "</style>\n",
       "<table border=\"1\" class=\"dataframe\">\n",
       "  <thead>\n",
       "    <tr style=\"text-align: right;\">\n",
       "      <th></th>\n",
       "      <th>Date</th>\n",
       "      <th>Infosys</th>\n",
       "      <th>Indian Hotel</th>\n",
       "      <th>Mahindra &amp; Mahindra</th>\n",
       "      <th>Axis Bank</th>\n",
       "      <th>SAIL</th>\n",
       "      <th>Shree Cement</th>\n",
       "      <th>Sun Pharma</th>\n",
       "      <th>Jindal Steel</th>\n",
       "      <th>Idea Vodafone</th>\n",
       "      <th>Jet Airways</th>\n",
       "    </tr>\n",
       "  </thead>\n",
       "  <tbody>\n",
       "    <tr>\n",
       "      <th>0</th>\n",
       "      <td>31-03-2014</td>\n",
       "      <td>264</td>\n",
       "      <td>69</td>\n",
       "      <td>455</td>\n",
       "      <td>263</td>\n",
       "      <td>68</td>\n",
       "      <td>5543</td>\n",
       "      <td>555</td>\n",
       "      <td>298</td>\n",
       "      <td>83</td>\n",
       "      <td>278</td>\n",
       "    </tr>\n",
       "    <tr>\n",
       "      <th>1</th>\n",
       "      <td>07-04-2014</td>\n",
       "      <td>257</td>\n",
       "      <td>68</td>\n",
       "      <td>458</td>\n",
       "      <td>276</td>\n",
       "      <td>70</td>\n",
       "      <td>5728</td>\n",
       "      <td>610</td>\n",
       "      <td>279</td>\n",
       "      <td>84</td>\n",
       "      <td>303</td>\n",
       "    </tr>\n",
       "    <tr>\n",
       "      <th>2</th>\n",
       "      <td>14-04-2014</td>\n",
       "      <td>254</td>\n",
       "      <td>68</td>\n",
       "      <td>454</td>\n",
       "      <td>270</td>\n",
       "      <td>68</td>\n",
       "      <td>5649</td>\n",
       "      <td>607</td>\n",
       "      <td>279</td>\n",
       "      <td>83</td>\n",
       "      <td>280</td>\n",
       "    </tr>\n",
       "    <tr>\n",
       "      <th>3</th>\n",
       "      <td>21-04-2014</td>\n",
       "      <td>253</td>\n",
       "      <td>68</td>\n",
       "      <td>488</td>\n",
       "      <td>283</td>\n",
       "      <td>68</td>\n",
       "      <td>5692</td>\n",
       "      <td>604</td>\n",
       "      <td>274</td>\n",
       "      <td>83</td>\n",
       "      <td>282</td>\n",
       "    </tr>\n",
       "    <tr>\n",
       "      <th>4</th>\n",
       "      <td>28-04-2014</td>\n",
       "      <td>256</td>\n",
       "      <td>65</td>\n",
       "      <td>482</td>\n",
       "      <td>282</td>\n",
       "      <td>63</td>\n",
       "      <td>5582</td>\n",
       "      <td>611</td>\n",
       "      <td>238</td>\n",
       "      <td>79</td>\n",
       "      <td>243</td>\n",
       "    </tr>\n",
       "  </tbody>\n",
       "</table>\n",
       "</div>"
      ],
      "text/plain": [
       "         Date  Infosys  Indian Hotel  Mahindra & Mahindra  Axis Bank  SAIL  \\\n",
       "0  31-03-2014      264            69                  455        263    68   \n",
       "1  07-04-2014      257            68                  458        276    70   \n",
       "2  14-04-2014      254            68                  454        270    68   \n",
       "3  21-04-2014      253            68                  488        283    68   \n",
       "4  28-04-2014      256            65                  482        282    63   \n",
       "\n",
       "   Shree Cement  Sun Pharma  Jindal Steel  Idea Vodafone  Jet Airways  \n",
       "0          5543         555           298             83          278  \n",
       "1          5728         610           279             84          303  \n",
       "2          5649         607           279             83          280  \n",
       "3          5692         604           274             83          282  \n",
       "4          5582         611           238             79          243  "
      ]
     },
     "execution_count": 103,
     "metadata": {},
     "output_type": "execute_result"
    }
   ],
   "source": [
    "df.head()"
   ]
  },
  {
   "cell_type": "code",
   "execution_count": 104,
   "metadata": {},
   "outputs": [
    {
     "name": "stdout",
     "output_type": "stream",
     "text": [
      "The number of rows (observations) is 314 \n",
      "The number of columns (variables) is 11\n"
     ]
    }
   ],
   "source": [
    "print('The number of rows (observations) is',df.shape[0],'\\n''The number of columns (variables) is',df.shape[1])"
   ]
  },
  {
   "cell_type": "code",
   "execution_count": 105,
   "metadata": {},
   "outputs": [
    {
     "name": "stdout",
     "output_type": "stream",
     "text": [
      "<class 'pandas.core.frame.DataFrame'>\n",
      "RangeIndex: 314 entries, 0 to 313\n",
      "Data columns (total 11 columns):\n",
      " #   Column               Non-Null Count  Dtype \n",
      "---  ------               --------------  ----- \n",
      " 0   Date                 314 non-null    object\n",
      " 1   Infosys              314 non-null    int64 \n",
      " 2   Indian Hotel         314 non-null    int64 \n",
      " 3   Mahindra & Mahindra  314 non-null    int64 \n",
      " 4   Axis Bank            314 non-null    int64 \n",
      " 5   SAIL                 314 non-null    int64 \n",
      " 6   Shree Cement         314 non-null    int64 \n",
      " 7   Sun Pharma           314 non-null    int64 \n",
      " 8   Jindal Steel         314 non-null    int64 \n",
      " 9   Idea Vodafone        314 non-null    int64 \n",
      " 10  Jet Airways          314 non-null    int64 \n",
      "dtypes: int64(10), object(1)\n",
      "memory usage: 27.1+ KB\n"
     ]
    }
   ],
   "source": [
    "df.info()"
   ]
  },
  {
   "cell_type": "code",
   "execution_count": 106,
   "metadata": {},
   "outputs": [
    {
     "data": {
      "text/html": [
       "<div>\n",
       "<style scoped>\n",
       "    .dataframe tbody tr th:only-of-type {\n",
       "        vertical-align: middle;\n",
       "    }\n",
       "\n",
       "    .dataframe tbody tr th {\n",
       "        vertical-align: top;\n",
       "    }\n",
       "\n",
       "    .dataframe thead th {\n",
       "        text-align: right;\n",
       "    }\n",
       "</style>\n",
       "<table border=\"1\" class=\"dataframe\">\n",
       "  <thead>\n",
       "    <tr style=\"text-align: right;\">\n",
       "      <th></th>\n",
       "      <th>Infosys</th>\n",
       "      <th>Indian Hotel</th>\n",
       "      <th>Mahindra &amp; Mahindra</th>\n",
       "      <th>Axis Bank</th>\n",
       "      <th>SAIL</th>\n",
       "      <th>Shree Cement</th>\n",
       "      <th>Sun Pharma</th>\n",
       "      <th>Jindal Steel</th>\n",
       "      <th>Idea Vodafone</th>\n",
       "      <th>Jet Airways</th>\n",
       "    </tr>\n",
       "  </thead>\n",
       "  <tbody>\n",
       "    <tr>\n",
       "      <th>count</th>\n",
       "      <td>314.00</td>\n",
       "      <td>314.00</td>\n",
       "      <td>314.00</td>\n",
       "      <td>314.00</td>\n",
       "      <td>314.00</td>\n",
       "      <td>314.00</td>\n",
       "      <td>314.00</td>\n",
       "      <td>314.00</td>\n",
       "      <td>314.00</td>\n",
       "      <td>314.00</td>\n",
       "    </tr>\n",
       "    <tr>\n",
       "      <th>mean</th>\n",
       "      <td>511.34</td>\n",
       "      <td>114.56</td>\n",
       "      <td>636.68</td>\n",
       "      <td>540.74</td>\n",
       "      <td>59.10</td>\n",
       "      <td>14806.41</td>\n",
       "      <td>633.47</td>\n",
       "      <td>147.63</td>\n",
       "      <td>53.71</td>\n",
       "      <td>372.66</td>\n",
       "    </tr>\n",
       "    <tr>\n",
       "      <th>std</th>\n",
       "      <td>135.95</td>\n",
       "      <td>22.51</td>\n",
       "      <td>102.88</td>\n",
       "      <td>115.84</td>\n",
       "      <td>15.81</td>\n",
       "      <td>4288.28</td>\n",
       "      <td>171.86</td>\n",
       "      <td>65.88</td>\n",
       "      <td>31.25</td>\n",
       "      <td>202.26</td>\n",
       "    </tr>\n",
       "    <tr>\n",
       "      <th>min</th>\n",
       "      <td>234.00</td>\n",
       "      <td>64.00</td>\n",
       "      <td>284.00</td>\n",
       "      <td>263.00</td>\n",
       "      <td>21.00</td>\n",
       "      <td>5543.00</td>\n",
       "      <td>338.00</td>\n",
       "      <td>53.00</td>\n",
       "      <td>3.00</td>\n",
       "      <td>14.00</td>\n",
       "    </tr>\n",
       "    <tr>\n",
       "      <th>25%</th>\n",
       "      <td>424.00</td>\n",
       "      <td>96.00</td>\n",
       "      <td>572.00</td>\n",
       "      <td>470.50</td>\n",
       "      <td>47.00</td>\n",
       "      <td>10952.25</td>\n",
       "      <td>478.50</td>\n",
       "      <td>88.25</td>\n",
       "      <td>25.25</td>\n",
       "      <td>243.25</td>\n",
       "    </tr>\n",
       "    <tr>\n",
       "      <th>50%</th>\n",
       "      <td>466.50</td>\n",
       "      <td>115.00</td>\n",
       "      <td>625.00</td>\n",
       "      <td>528.00</td>\n",
       "      <td>57.00</td>\n",
       "      <td>16018.50</td>\n",
       "      <td>614.00</td>\n",
       "      <td>142.50</td>\n",
       "      <td>53.00</td>\n",
       "      <td>376.00</td>\n",
       "    </tr>\n",
       "    <tr>\n",
       "      <th>75%</th>\n",
       "      <td>630.75</td>\n",
       "      <td>134.00</td>\n",
       "      <td>678.00</td>\n",
       "      <td>605.25</td>\n",
       "      <td>71.75</td>\n",
       "      <td>17773.25</td>\n",
       "      <td>785.00</td>\n",
       "      <td>182.75</td>\n",
       "      <td>82.00</td>\n",
       "      <td>534.00</td>\n",
       "    </tr>\n",
       "    <tr>\n",
       "      <th>max</th>\n",
       "      <td>810.00</td>\n",
       "      <td>157.00</td>\n",
       "      <td>956.00</td>\n",
       "      <td>808.00</td>\n",
       "      <td>104.00</td>\n",
       "      <td>24806.00</td>\n",
       "      <td>1089.00</td>\n",
       "      <td>338.00</td>\n",
       "      <td>117.00</td>\n",
       "      <td>871.00</td>\n",
       "    </tr>\n",
       "  </tbody>\n",
       "</table>\n",
       "</div>"
      ],
      "text/plain": [
       "       Infosys  Indian Hotel  Mahindra & Mahindra  Axis Bank   SAIL  \\\n",
       "count   314.00        314.00               314.00     314.00 314.00   \n",
       "mean    511.34        114.56               636.68     540.74  59.10   \n",
       "std     135.95         22.51               102.88     115.84  15.81   \n",
       "min     234.00         64.00               284.00     263.00  21.00   \n",
       "25%     424.00         96.00               572.00     470.50  47.00   \n",
       "50%     466.50        115.00               625.00     528.00  57.00   \n",
       "75%     630.75        134.00               678.00     605.25  71.75   \n",
       "max     810.00        157.00               956.00     808.00 104.00   \n",
       "\n",
       "       Shree Cement  Sun Pharma  Jindal Steel  Idea Vodafone  Jet Airways  \n",
       "count        314.00      314.00        314.00         314.00       314.00  \n",
       "mean       14806.41      633.47        147.63          53.71       372.66  \n",
       "std         4288.28      171.86         65.88          31.25       202.26  \n",
       "min         5543.00      338.00         53.00           3.00        14.00  \n",
       "25%        10952.25      478.50         88.25          25.25       243.25  \n",
       "50%        16018.50      614.00        142.50          53.00       376.00  \n",
       "75%        17773.25      785.00        182.75          82.00       534.00  \n",
       "max        24806.00     1089.00        338.00         117.00       871.00  "
      ]
     },
     "execution_count": 106,
     "metadata": {},
     "output_type": "execute_result"
    }
   ],
   "source": [
    "df.describe()"
   ]
  },
  {
   "cell_type": "code",
   "execution_count": 107,
   "metadata": {},
   "outputs": [
    {
     "data": {
      "text/plain": [
       "Date                   0\n",
       "Infosys                0\n",
       "Indian Hotel           0\n",
       "Mahindra & Mahindra    0\n",
       "Axis Bank              0\n",
       "SAIL                   0\n",
       "Shree Cement           0\n",
       "Sun Pharma             0\n",
       "Jindal Steel           0\n",
       "Idea Vodafone          0\n",
       "Jet Airways            0\n",
       "dtype: int64"
      ]
     },
     "execution_count": 107,
     "metadata": {},
     "output_type": "execute_result"
    }
   ],
   "source": [
    "df.isnull().sum()"
   ]
  },
  {
   "cell_type": "markdown",
   "metadata": {},
   "source": []
  },
  {
   "cell_type": "markdown",
   "metadata": {},
   "source": [
    "# 2.1 Draw Stock Price Graph(Stock Price vs Time) for any 2 given stocks with inference"
   ]
  },
  {
   "cell_type": "code",
   "execution_count": 108,
   "metadata": {},
   "outputs": [],
   "source": [
    "## Lets us plot & see price trend over time for different companies"
   ]
  },
  {
   "cell_type": "code",
   "execution_count": 109,
   "metadata": {},
   "outputs": [],
   "source": [
    "df['Dates'] = [pd.to_datetime(d) for d in df['Date']]"
   ]
  },
  {
   "cell_type": "code",
   "execution_count": 110,
   "metadata": {},
   "outputs": [
    {
     "data": {
      "image/png": "[encoded data removed]",
      "text/plain": [
       "<Figure size 720x576 with 1 Axes>"
      ]
     },
     "metadata": {
      "needs_background": "light"
     },
     "output_type": "display_data"
    }
   ],
   "source": [
    "plt.figure(figsize = (10, 8))\n",
    "plt.scatter(df['Dates'], df['Infosys'], edgecolors='b', color = 'lightblue')\n",
    "plt.xlabel('Year')\n",
    "plt.ylabel('Infosys')\n",
    "plt.title('Infosys over the years')\n",
    "plt.show()"
   ]
  },
  {
   "cell_type": "markdown",
   "metadata": {},
   "source": [
    "**The stock prices of Infosys have been risen sharply over years especially from 2019 to 2021 which indicates the growth of the company as the companies worth have been increasing even amid the pandemic.**\n"
   ]
  },
  {
   "cell_type": "code",
   "execution_count": 111,
   "metadata": {},
   "outputs": [
    {
     "data": {
      "image/png": "[encoded data removed]",
      "text/plain": [
       "<Figure size 720x576 with 1 Axes>"
      ]
     },
     "metadata": {
      "needs_background": "light"
     },
     "output_type": "display_data"
    }
   ],
   "source": [
    "plt.figure(figsize = (10, 8))\n",
    "plt.scatter(df['Dates'], df['Indian Hotel'], edgecolors='b', color = 'lightblue')\n",
    "plt.xlabel('Year')\n",
    "plt.ylabel('Indian Hotel')\n",
    "plt.title('Indian Hotel over the years')\n",
    "plt.show()"
   ]
  },
  {
   "cell_type": "code",
   "execution_count": 112,
   "metadata": {},
   "outputs": [
    {
     "data": {
      "image/png": "[encoded data removed]",
      "text/plain": [
       "<Figure size 720x576 with 1 Axes>"
      ]
     },
     "metadata": {
      "needs_background": "light"
     },
     "output_type": "display_data"
    }
   ],
   "source": [
    "plt.figure(figsize = (10, 8))\n",
    "plt.scatter(df['Dates'], df['Mahindra & Mahindra'], edgecolors='b', color = 'lightblue')\n",
    "plt.xlabel('Year')\n",
    "plt.ylabel('Mahindra & Mahindra')\n",
    "plt.title('Mahindra & Mahindra over the years')\n",
    "plt.show()"
   ]
  },
  {
   "cell_type": "code",
   "execution_count": 113,
   "metadata": {},
   "outputs": [
    {
     "data": {
      "image/png": "[encoded data removed]",
      "text/plain": [
       "<Figure size 720x576 with 1 Axes>"
      ]
     },
     "metadata": {
      "needs_background": "light"
     },
     "output_type": "display_data"
    }
   ],
   "source": [
    "plt.figure(figsize = (10, 8))\n",
    "plt.scatter(df['Dates'], df['Axis Bank'], edgecolors='b', color = 'lightblue')\n",
    "plt.xlabel('Year')\n",
    "plt.ylabel('Axis Bank')\n",
    "plt.title('Axis Bank over the years')\n",
    "plt.show()"
   ]
  },
  {
   "cell_type": "code",
   "execution_count": 114,
   "metadata": {},
   "outputs": [
    {
     "data": {
      "image/png": "[encoded data removed]",
      "text/plain": [
       "<Figure size 720x576 with 1 Axes>"
      ]
     },
     "metadata": {
      "needs_background": "light"
     },
     "output_type": "display_data"
    }
   ],
   "source": [
    "plt.figure(figsize = (10, 8))\n",
    "plt.scatter(df['Dates'], df['SAIL'], edgecolors='b', color = 'lightblue')\n",
    "plt.xlabel('Year')\n",
    "plt.ylabel('SAIL')\n",
    "plt.title('SAIL over the years')\n",
    "plt.show()"
   ]
  },
  {
   "cell_type": "code",
   "execution_count": 115,
   "metadata": {},
   "outputs": [
    {
     "data": {
      "image/png": "[encoded data removed]",
      "text/plain": [
       "<Figure size 720x576 with 1 Axes>"
      ]
     },
     "metadata": {
      "needs_background": "light"
     },
     "output_type": "display_data"
    }
   ],
   "source": [
    "plt.figure(figsize = (10, 8))\n",
    "plt.scatter(df['Dates'], df['Shree Cement'], edgecolors='b', color = 'lightblue')\n",
    "plt.xlabel('Year')\n",
    "plt.ylabel('Shree Cement')\n",
    "plt.title('Shree Cement over the years')\n",
    "plt.show()"
   ]
  },
  {
   "cell_type": "code",
   "execution_count": 116,
   "metadata": {},
   "outputs": [
    {
     "data": {
      "image/png": "[encoded data removed]",
      "text/plain": [
       "<Figure size 720x576 with 1 Axes>"
      ]
     },
     "metadata": {
      "needs_background": "light"
     },
     "output_type": "display_data"
    }
   ],
   "source": [
    "plt.figure(figsize = (10, 8))\n",
    "plt.scatter(df['Dates'], df['Sun Pharma'], edgecolors='b', color = 'lightblue')\n",
    "plt.xlabel('Year')\n",
    "plt.ylabel('Sun Phaarma')\n",
    "plt.title('Sun Pharma over the years')\n",
    "plt.show()"
   ]
  },
  {
   "cell_type": "code",
   "execution_count": 117,
   "metadata": {},
   "outputs": [
    {
     "data": {
      "image/png": "[encoded data removed]",
      "text/plain": [
       "<Figure size 720x576 with 1 Axes>"
      ]
     },
     "metadata": {
      "needs_background": "light"
     },
     "output_type": "display_data"
    }
   ],
   "source": [
    "plt.figure(figsize = (10, 8))\n",
    "plt.scatter(df['Dates'], df['Jindal Steel'], edgecolors='b', color = 'lightblue')\n",
    "plt.xlabel('Year')\n",
    "plt.ylabel('Jindal Steel')\n",
    "plt.title('Jindal Steel over the years')\n",
    "plt.show()"
   ]
  },
  {
   "cell_type": "code",
   "execution_count": 118,
   "metadata": {},
   "outputs": [
    {
     "data": {
      "image/png": "[encoded data removed]",
      "text/plain": [
       "<Figure size 720x576 with 1 Axes>"
      ]
     },
     "metadata": {
      "needs_background": "light"
     },
     "output_type": "display_data"
    }
   ],
   "source": [
    "plt.figure(figsize = (10, 8))\n",
    "plt.scatter(df['Dates'], df['Idea Vodafone'], edgecolors='b', color = 'lightblue')\n",
    "plt.xlabel('Year')\n",
    "plt.ylabel('Idea Vodafone')\n",
    "plt.title('Idea Vodafone over the years')\n",
    "plt.show()"
   ]
  },
  {
   "cell_type": "code",
   "execution_count": 119,
   "metadata": {},
   "outputs": [
    {
     "data": {
      "image/png": "[encoded data removed]",
      "text/plain": [
       "<Figure size 720x576 with 1 Axes>"
      ]
     },
     "metadata": {
      "needs_background": "light"
     },
     "output_type": "display_data"
    }
   ],
   "source": [
    "plt.figure(figsize = (10, 8))\n",
    "plt.scatter(df['Dates'], df['Jet Airways'], edgecolors='b', color = 'lightblue')\n",
    "plt.xlabel('Year')\n",
    "plt.ylabel('Jet Airways')\n",
    "plt.title('Jet Airways over the years')\n",
    "plt.show()"
   ]
  },
  {
   "cell_type": "markdown",
   "metadata": {},
   "source": [
    "**The stock prices of Jet Airways have been risen sharply over years especially till 2019 then had a sharp decline after 2019 which indicates the decrease in revenue loss during pandemic.**"
   ]
  },
  {
   "cell_type": "markdown",
   "metadata": {},
   "source": [
    "# 2.2 Calculate Returns for all stocks with inference"
   ]
  },
  {
   "cell_type": "markdown",
   "metadata": {},
   "source": [
    "## Steps for calculating returns from prices:\n",
    "\n",
    " **Take logarithms**\n",
    " \n",
    " \n",
    " **Take differences**\n",
    "\n"
   ]
  },
  {
   "cell_type": "code",
   "execution_count": 121,
   "metadata": {},
   "outputs": [],
   "source": [
    "stock_returns = np.log(df.drop(['Date','Dates'],axis=1)).diff(axis = 0, periods = 1) "
   ]
  },
  {
   "cell_type": "code",
   "execution_count": 122,
   "metadata": {},
   "outputs": [
    {
     "data": {
      "text/plain": [
       "(314, 10)"
      ]
     },
     "execution_count": 122,
     "metadata": {},
     "output_type": "execute_result"
    }
   ],
   "source": [
    "stock_returns.shape"
   ]
  },
  {
   "cell_type": "code",
   "execution_count": 123,
   "metadata": {},
   "outputs": [
    {
     "data": {
      "text/html": [
       "<div>\n",
       "<style scoped>\n",
       "    .dataframe tbody tr th:only-of-type {\n",
       "        vertical-align: middle;\n",
       "    }\n",
       "\n",
       "    .dataframe tbody tr th {\n",
       "        vertical-align: top;\n",
       "    }\n",
       "\n",
       "    .dataframe thead th {\n",
       "        text-align: right;\n",
       "    }\n",
       "</style>\n",
       "<table border=\"1\" class=\"dataframe\">\n",
       "  <thead>\n",
       "    <tr style=\"text-align: right;\">\n",
       "      <th></th>\n",
       "      <th>Infosys</th>\n",
       "      <th>Indian Hotel</th>\n",
       "      <th>Mahindra &amp; Mahindra</th>\n",
       "      <th>Axis Bank</th>\n",
       "      <th>SAIL</th>\n",
       "      <th>Shree Cement</th>\n",
       "      <th>Sun Pharma</th>\n",
       "      <th>Jindal Steel</th>\n",
       "      <th>Idea Vodafone</th>\n",
       "      <th>Jet Airways</th>\n",
       "    </tr>\n",
       "  </thead>\n",
       "  <tbody>\n",
       "    <tr>\n",
       "      <th>0</th>\n",
       "      <td>nan</td>\n",
       "      <td>nan</td>\n",
       "      <td>nan</td>\n",
       "      <td>nan</td>\n",
       "      <td>nan</td>\n",
       "      <td>nan</td>\n",
       "      <td>nan</td>\n",
       "      <td>nan</td>\n",
       "      <td>nan</td>\n",
       "      <td>nan</td>\n",
       "    </tr>\n",
       "    <tr>\n",
       "      <th>1</th>\n",
       "      <td>-0.03</td>\n",
       "      <td>-0.01</td>\n",
       "      <td>0.01</td>\n",
       "      <td>0.05</td>\n",
       "      <td>0.03</td>\n",
       "      <td>0.03</td>\n",
       "      <td>0.09</td>\n",
       "      <td>-0.07</td>\n",
       "      <td>0.01</td>\n",
       "      <td>0.09</td>\n",
       "    </tr>\n",
       "    <tr>\n",
       "      <th>2</th>\n",
       "      <td>-0.01</td>\n",
       "      <td>0.00</td>\n",
       "      <td>-0.01</td>\n",
       "      <td>-0.02</td>\n",
       "      <td>-0.03</td>\n",
       "      <td>-0.01</td>\n",
       "      <td>-0.00</td>\n",
       "      <td>0.00</td>\n",
       "      <td>-0.01</td>\n",
       "      <td>-0.08</td>\n",
       "    </tr>\n",
       "    <tr>\n",
       "      <th>3</th>\n",
       "      <td>-0.00</td>\n",
       "      <td>0.00</td>\n",
       "      <td>0.07</td>\n",
       "      <td>0.05</td>\n",
       "      <td>0.00</td>\n",
       "      <td>0.01</td>\n",
       "      <td>-0.00</td>\n",
       "      <td>-0.02</td>\n",
       "      <td>0.00</td>\n",
       "      <td>0.01</td>\n",
       "    </tr>\n",
       "    <tr>\n",
       "      <th>4</th>\n",
       "      <td>0.01</td>\n",
       "      <td>-0.05</td>\n",
       "      <td>-0.01</td>\n",
       "      <td>-0.00</td>\n",
       "      <td>-0.08</td>\n",
       "      <td>-0.02</td>\n",
       "      <td>0.01</td>\n",
       "      <td>-0.14</td>\n",
       "      <td>-0.05</td>\n",
       "      <td>-0.15</td>\n",
       "    </tr>\n",
       "  </tbody>\n",
       "</table>\n",
       "</div>"
      ],
      "text/plain": [
       "   Infosys  Indian Hotel  Mahindra & Mahindra  Axis Bank  SAIL  Shree Cement  \\\n",
       "0      nan           nan                  nan        nan   nan           nan   \n",
       "1    -0.03         -0.01                 0.01       0.05  0.03          0.03   \n",
       "2    -0.01          0.00                -0.01      -0.02 -0.03         -0.01   \n",
       "3    -0.00          0.00                 0.07       0.05  0.00          0.01   \n",
       "4     0.01         -0.05                -0.01      -0.00 -0.08         -0.02   \n",
       "\n",
       "   Sun Pharma  Jindal Steel  Idea Vodafone  Jet Airways  \n",
       "0         nan           nan            nan          nan  \n",
       "1        0.09         -0.07           0.01         0.09  \n",
       "2       -0.00          0.00          -0.01        -0.08  \n",
       "3       -0.00         -0.02           0.00         0.01  \n",
       "4        0.01         -0.14          -0.05        -0.15  "
      ]
     },
     "execution_count": 123,
     "metadata": {},
     "output_type": "execute_result"
    }
   ],
   "source": [
    "stock_returns.head()"
   ]
  },
  {
   "cell_type": "markdown",
   "metadata": {},
   "source": [
    "**This gives the difference between the previous period stocks . This can give us the increase or decrease of the stock value from the previous period.**"
   ]
  },
  {
   "cell_type": "markdown",
   "metadata": {},
   "source": [
    "# 2.3 Calculate Stock Means and Standard Deviation for all stocks with inference"
   ]
  },
  {
   "cell_type": "markdown",
   "metadata": {},
   "source": [
    "## We now look at Means & Standard Deviations of these returns\n",
    "\n",
    "   ### Stock Means: Average returns that the stock is making on a week to week basis\n",
    "   ### Stock Standard Deviation : It is a measure of volatility meaning the more a stock's returns vary from the stock's average return, the more volatile the stock\n",
    "\n",
    "### Calculating stock means\n"
   ]
  },
  {
   "cell_type": "code",
   "execution_count": 125,
   "metadata": {},
   "outputs": [
    {
     "data": {
      "text/plain": [
       "Infosys                0.00\n",
       "Indian Hotel           0.00\n",
       "Mahindra & Mahindra   -0.00\n",
       "Axis Bank              0.00\n",
       "SAIL                  -0.00\n",
       "Shree Cement           0.00\n",
       "Sun Pharma            -0.00\n",
       "Jindal Steel          -0.00\n",
       "Idea Vodafone         -0.01\n",
       "Jet Airways           -0.01\n",
       "dtype: float64"
      ]
     },
     "execution_count": 125,
     "metadata": {},
     "output_type": "execute_result"
    }
   ],
   "source": [
    "stock_means = stock_returns.mean(axis = 0)\n",
    "stock_means"
   ]
  },
  {
   "cell_type": "markdown",
   "metadata": {},
   "source": [
    "### Calculating stock standard deviation"
   ]
  },
  {
   "cell_type": "code",
   "execution_count": 127,
   "metadata": {},
   "outputs": [
    {
     "data": {
      "text/plain": [
       "Infosys               0.04\n",
       "Indian Hotel          0.05\n",
       "Mahindra & Mahindra   0.04\n",
       "Axis Bank             0.05\n",
       "SAIL                  0.06\n",
       "Shree Cement          0.04\n",
       "Sun Pharma            0.05\n",
       "Jindal Steel          0.08\n",
       "Idea Vodafone         0.10\n",
       "Jet Airways           0.10\n",
       "dtype: float64"
      ]
     },
     "execution_count": 127,
     "metadata": {},
     "output_type": "execute_result"
    }
   ],
   "source": [
    "stock_sd = stock_returns.std(axis = 0)\n",
    "stock_sd"
   ]
  },
  {
   "cell_type": "code",
   "execution_count": 128,
   "metadata": {},
   "outputs": [
    {
     "data": {
      "text/html": [
       "<div>\n",
       "<style scoped>\n",
       "    .dataframe tbody tr th:only-of-type {\n",
       "        vertical-align: middle;\n",
       "    }\n",
       "\n",
       "    .dataframe tbody tr th {\n",
       "        vertical-align: top;\n",
       "    }\n",
       "\n",
       "    .dataframe thead th {\n",
       "        text-align: right;\n",
       "    }\n",
       "</style>\n",
       "<table border=\"1\" class=\"dataframe\">\n",
       "  <thead>\n",
       "    <tr style=\"text-align: right;\">\n",
       "      <th></th>\n",
       "      <th>Average</th>\n",
       "      <th>Volatility</th>\n",
       "    </tr>\n",
       "  </thead>\n",
       "  <tbody>\n",
       "    <tr>\n",
       "      <th>Infosys</th>\n",
       "      <td>0.00</td>\n",
       "      <td>0.04</td>\n",
       "    </tr>\n",
       "    <tr>\n",
       "      <th>Indian Hotel</th>\n",
       "      <td>0.00</td>\n",
       "      <td>0.05</td>\n",
       "    </tr>\n",
       "    <tr>\n",
       "      <th>Mahindra &amp; Mahindra</th>\n",
       "      <td>-0.00</td>\n",
       "      <td>0.04</td>\n",
       "    </tr>\n",
       "    <tr>\n",
       "      <th>Axis Bank</th>\n",
       "      <td>0.00</td>\n",
       "      <td>0.05</td>\n",
       "    </tr>\n",
       "    <tr>\n",
       "      <th>SAIL</th>\n",
       "      <td>-0.00</td>\n",
       "      <td>0.06</td>\n",
       "    </tr>\n",
       "    <tr>\n",
       "      <th>Shree Cement</th>\n",
       "      <td>0.00</td>\n",
       "      <td>0.04</td>\n",
       "    </tr>\n",
       "    <tr>\n",
       "      <th>Sun Pharma</th>\n",
       "      <td>-0.00</td>\n",
       "      <td>0.05</td>\n",
       "    </tr>\n",
       "    <tr>\n",
       "      <th>Jindal Steel</th>\n",
       "      <td>-0.00</td>\n",
       "      <td>0.08</td>\n",
       "    </tr>\n",
       "    <tr>\n",
       "      <th>Idea Vodafone</th>\n",
       "      <td>-0.01</td>\n",
       "      <td>0.10</td>\n",
       "    </tr>\n",
       "    <tr>\n",
       "      <th>Jet Airways</th>\n",
       "      <td>-0.01</td>\n",
       "      <td>0.10</td>\n",
       "    </tr>\n",
       "  </tbody>\n",
       "</table>\n",
       "</div>"
      ],
      "text/plain": [
       "                     Average  Volatility\n",
       "Infosys                 0.00        0.04\n",
       "Indian Hotel            0.00        0.05\n",
       "Mahindra & Mahindra    -0.00        0.04\n",
       "Axis Bank               0.00        0.05\n",
       "SAIL                   -0.00        0.06\n",
       "Shree Cement            0.00        0.04\n",
       "Sun Pharma             -0.00        0.05\n",
       "Jindal Steel           -0.00        0.08\n",
       "Idea Vodafone          -0.01        0.10\n",
       "Jet Airways            -0.01        0.10"
      ]
     },
     "execution_count": 128,
     "metadata": {},
     "output_type": "execute_result"
    }
   ],
   "source": [
    "df1 = pd.DataFrame({'Average':stock_means, 'Volatility': stock_sd})\n",
    "df1"
   ]
  },
  {
   "cell_type": "markdown",
   "metadata": {},
   "source": [
    "**The average return and volatility gives the estimation of the return expected from the company also a percentage of the risk involved in investing in the company.**"
   ]
  },
  {
   "cell_type": "markdown",
   "metadata": {},
   "source": [
    "# 2.4 Draw a plot of Stock Means vs Standard Deviation and state your inference"
   ]
  },
  {
   "cell_type": "markdown",
   "metadata": {},
   "source": [
    "### Let us plot & see what they say about stock prices"
   ]
  },
  {
   "cell_type": "code",
   "execution_count": 130,
   "metadata": {},
   "outputs": [
    {
     "data": {
      "image/png": "[encoded data removed]",
      "text/plain": [
       "<Figure size 432x288 with 1 Axes>"
      ]
     },
     "metadata": {
      "needs_background": "light"
     },
     "output_type": "display_data"
    }
   ],
   "source": [
    "#plt.scatter(stock_sd, stock_means, edgecolors='r')\n",
    "plot = sns.scatterplot(df1['Volatility'], df1['Average'])\n",
    "plot.axvline(x=0.035070,linestyle='--', color = \"red\")\n",
    "plot.axhline(y=0.002794,linestyle='--', color = \"red\")\n",
    "plt.show()"
   ]
  },
  {
   "cell_type": "markdown",
   "metadata": {},
   "source": [
    "# 2.5 Conclusion and Recommendations"
   ]
  },
  {
   "cell_type": "markdown",
   "metadata": {},
   "source": [
    "1. Volatility of 0.4 indicates that both Infosys and Shree Cements are the 2 least risky investment.That is the chance of stock price ossilations are low.\n",
    "\n",
    "2. Axis bank, Indian Hotel and Sun Pharma are the second least risky companies to invest.\n",
    "\n",
    "3. Idea vodafone and Jet airways seems to be the highly risky investment.As the chance to stock price going low is very high.\n",
    "\n",
    "4. Buying stocks of Infosys will give good returns & also buying stocks of Indian_Hotels/ Axis Bank /Shree cements  has  Good positive return eventhough there is volatility.\n",
    "\n",
    "5. Avoid buying of Stocks of Idea Vodafone Jet AirwaysJindal steel.They showcase negative Average return with huge volatility.To safe the money avoid investments on these stocks.\n",
    "\n",
    "6. Similarly Sun pharma/SAIL/Mahindra & Mahindra also has negative return with nominal risk compare to above said companies. But the returns are low.\n",
    "\n",
    "7. We can also conclude that companies like Jindal steel and jet Airways had decline in 2020 and 2021 which can be attributed to the pandemic."
   ]
  },
  {
   "cell_type": "code",
   "execution_count": null,
   "metadata": {},
   "outputs": [],
   "source": []
  }
 ],
 "metadata": {
  "kernelspec": {
   "display_name": "Python 3",
   "language": "python",
   "name": "python3"
  },
  "language_info": {
   "codemirror_mode": {
    "name": "ipython",
    "version": 3
   },
   "file_extension": ".py",
   "mimetype": "text/x-python",
   "name": "python",
   "nbconvert_exporter": "python",
   "pygments_lexer": "ipython3",
   "version": "3.7.6"
  }
 },
 "nbformat": 4,
 "nbformat_minor": 4
}
